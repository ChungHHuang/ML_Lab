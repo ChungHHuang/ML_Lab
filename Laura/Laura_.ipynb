{
 "cells": [
  {
   "cell_type": "markdown",
   "metadata": {},
   "source": [
    "# Machine Learning Lab\n",
    "### Laura Elliott"
   ]
  },
  {
   "cell_type": "code",
   "execution_count": 631,
   "metadata": {},
   "outputs": [],
   "source": [
    "import pandas as pd\n",
    "import numpy as np\n",
    "import seaborn as sns\n",
    "\n",
    "import matplotlib.pyplot as plt\n",
    "%matplotlib inline\n",
    "\n",
    "import datetime\n",
    "import scipy.stats as stats\n",
    "import statsmodels.api as sm\n",
    "from statsmodels.formula.api import ols"
   ]
  },
  {
   "cell_type": "markdown",
   "metadata": {},
   "source": [
    "# Part I "
   ]
  },
  {
   "cell_type": "code",
   "execution_count": 632,
   "metadata": {},
   "outputs": [
    {
     "data": {
      "text/plain": [
       "Index(['Order.ID', 'Order.Date', 'Ship.Date', 'Ship.Mode', 'Customer.ID',\n",
       "       'Customer.Name', 'Segment', 'Postal.Code', 'City', 'State', 'Country',\n",
       "       'Region', 'Market', 'Product.ID', 'Category', 'Sub.Category',\n",
       "       'Product.Name', 'Sales', 'Quantity', 'Discount', 'Profit',\n",
       "       'Shipping.Cost', 'Order.Priority'],\n",
       "      dtype='object')"
      ]
     },
     "execution_count": 632,
     "metadata": {},
     "output_type": "execute_result"
    }
   ],
   "source": [
    "orders = pd.read_csv('orders.csv', index_col=0)\n",
    "\n",
    "orders.head()\n",
    "\n",
    "orders.columns\n"
   ]
  },
  {
   "cell_type": "code",
   "execution_count": 633,
   "metadata": {
    "scrolled": true
   },
   "outputs": [
    {
     "data": {
      "text/plain": [
       "array(['United States', 'Australia', 'Germany', 'Senegal', 'New Zealand',\n",
       "       'Afghanistan', 'Saudi Arabia', 'Brazil', 'China', 'France',\n",
       "       'Italy', 'Tanzania', 'Poland', 'United Kingdom', 'Mexico',\n",
       "       'El Salvador', 'Taiwan', 'India', 'Dominican Republic',\n",
       "       'Democratic Republic of the Congo', 'Indonesia', 'Uruguay', 'Iran',\n",
       "       'Mozambique', 'Bangladesh', 'Spain', 'Ukraine', 'Nicaragua',\n",
       "       'Morocco', 'Philippines', 'Austria', 'Colombia', 'Netherlands',\n",
       "       'Malaysia', 'Ecuador', 'Thailand', 'Somalia', 'Guatemala',\n",
       "       'Belarus', 'Cambodia', 'South Africa', 'Canada', 'Japan', 'Russia',\n",
       "       'Egypt', 'Azerbaijan', 'Lithuania', 'Argentina', 'Lesotho',\n",
       "       'Vietnam', 'Cuba', 'Romania', 'Turkey', 'Cameroon', 'Hungary',\n",
       "       'Singapore', 'Angola', 'Belgium', 'Pakistan', 'Finland', 'Ghana',\n",
       "       'Zambia', 'Iraq', 'Liberia', 'Georgia', 'Switzerland', 'Albania',\n",
       "       'Chad', 'Montenegro', 'Namibia', 'Portugal', 'Madagascar',\n",
       "       'Sweden', 'Myanmar (Burma)', 'Jamaica', 'Greece', 'Qatar',\n",
       "       'Republic of the Congo', 'Norway', 'Algeria', 'South Korea',\n",
       "       'Nigeria', 'Estonia', \"Cote d'Ivoire\", 'Honduras', 'Paraguay',\n",
       "       'Czech Republic', 'Central African Republic', 'Benin', 'Bolivia',\n",
       "       'Chile', 'Martinique', 'Syria', 'Lebanon', 'Kenya', 'Mali',\n",
       "       'Libya', 'Venezuela', 'Trinidad and Tobago', 'Ireland', 'Bulgaria',\n",
       "       'Panama', 'Israel', 'Haiti', 'Barbados', 'Slovenia', 'Togo',\n",
       "       'Mauritania', 'Burkina Faso', 'Guinea', 'Rwanda', 'Denmark',\n",
       "       'Niger', 'Papua New Guinea', 'Mongolia', 'Sudan', 'Kuwait', 'Peru',\n",
       "       'Sierra Leone', 'Luxembourg', 'Bosnia and Herzegovina',\n",
       "       'Guinea-Bissau', 'Djibouti', 'Tunisia', 'Croatia', 'Hong Kong',\n",
       "       'Nepal', 'Guadeloupe', 'Kyrgyzstan', 'Zimbabwe', 'Uzbekistan',\n",
       "       'South Sudan', 'Malawi', 'Gabon', 'Bahrain', 'Yemen', 'Jordan',\n",
       "       'United Arab Emirates', 'Moldova', 'Costa Rica', 'Swaziland',\n",
       "       'Western Sahara', 'Guyana', 'Serbia', 'Turkmenistan', 'Laos',\n",
       "       'Kazakhstan', 'Botswana', 'Ethiopia', 'Uganda', 'Slovakia',\n",
       "       'Sri Lanka', 'French Guiana', 'Tajikistan', 'Burundi', 'Bhutan',\n",
       "       'Macedonia', 'Eritrea', 'Equatorial Guinea', 'Belize', 'Armenia',\n",
       "       'Oman', 'Cyprus', 'Suriname', 'The Gambia'], dtype=object)"
      ]
     },
     "execution_count": 633,
     "metadata": {},
     "output_type": "execute_result"
    }
   ],
   "source": [
    "orders.Country.unique()"
   ]
  },
  {
   "cell_type": "markdown",
   "metadata": {},
   "source": [
    "### Problem 1: Dataset Import & Cleaning\n",
    "Check **\"Profit\"** and **\"Sales\"** in the dataset, convert these two columns to numeric type. "
   ]
  },
  {
   "cell_type": "code",
   "execution_count": 634,
   "metadata": {
    "scrolled": true
   },
   "outputs": [],
   "source": [
    "########### Eliminate '$', '.', & ',' from profit to switch to numeric\n",
    "\n",
    "orders['Profit'] = orders['Profit'].str.replace('$','')\n",
    "orders['Profit'] = orders['Profit'].str.replace('.', '')\n",
    "orders['Profit'] = orders['Profit'].str.replace(',', '')\n",
    "\n",
    "########### Eliminate '$', '.', & ',' from Sales to switch to numeric\n",
    "\n",
    "orders['Sales'] = orders['Sales'].str.replace('$','')\n",
    "orders['Sales'] = orders['Sales'].str.replace('.', '')\n",
    "orders['Sales'] = orders['Sales'].str.replace(',', '')\n",
    "\n",
    "\n",
    "\n",
    "########## Switch Profit, Orders to numeric value\n",
    "orders['Profit'] = pd.to_numeric(orders['Profit'])\n",
    "orders['Sales'] = pd.to_numeric(orders['Sales'])\n",
    "\n",
    "\n",
    "######### Creating month variable #########\n",
    "orders['Month'] = pd.DatetimeIndex(orders['Order.Date']).month\n",
    "\n",
    "####### Creating a Seasons Variable##########\n",
    "\n",
    "seasons = [1, 1, 2, 2, 2, 3, 3, 3, 4, 4, 4, 1] # Season Values\n",
    "\n",
    "month_to_season = dict(zip(range(1,13), seasons)) ### compress the months into the different seasons\n",
    "month_to_season \n",
    " # 1 = Winter \n",
    " # 2 = Spring \n",
    " # 3 = Summer\n",
    " # 4 = Fall\n",
    "\n",
    "orders['Season'] = orders.Month.map(month_to_season) \n",
    "\n"
   ]
  },
  {
   "cell_type": "markdown",
   "metadata": {},
   "source": [
    "### Problem 2: Inventory Management\n",
    "- Retailers that depend on seasonal shoppers have a particularly challenging job when it comes to inventory management. Your manager is making plans for next year's inventory.\n",
    "- He wants you to answer the following questions:\n",
    "    1. Is there any seasonal trend of inventory in the company?\n",
    "    2. Is the seasonal trend the same for different categories?\n",
    "\n",
    "- ***Hint:*** For each order, it has an attribute called `Quantity` that indicates the number of product in the order. If an order contains more than one product, there will be multiple observations of the same order."
   ]
  },
  {
   "cell_type": "markdown",
   "metadata": {},
   "source": [
    "### 2. 1 Seasonal Trend in Quantity\n"
   ]
  },
  {
   "cell_type": "markdown",
   "metadata": {},
   "source": [
    "###  Visualization of our Outcome 'Quantity' by 'Season'"
   ]
  },
  {
   "cell_type": "code",
   "execution_count": 635,
   "metadata": {},
   "outputs": [
    {
     "data": {
      "text/plain": [
       "<matplotlib.axes._subplots.AxesSubplot at 0x1c39afd3c8>"
      ]
     },
     "execution_count": 635,
     "metadata": {},
     "output_type": "execute_result"
    },
    {
     "data": {
      "image/png": "[encoded data removed]",
      "text/plain": [
       "<Figure size 432x288 with 1 Axes>"
      ]
     },
     "metadata": {
      "needs_background": "light"
     },
     "output_type": "display_data"
    }
   ],
   "source": [
    "sns.boxplot(x=orders[\"Season\"], y=orders[\"Quantity\"])"
   ]
  },
  {
   "cell_type": "markdown",
   "metadata": {},
   "source": [
    "###  ANOVA"
   ]
  },
  {
   "cell_type": "code",
   "execution_count": 636,
   "metadata": {},
   "outputs": [
    {
     "data": {
      "text/plain": [
       "F_onewayResult(statistic=2.975870788020286, pvalue=0.030278437549823706)"
      ]
     },
     "execution_count": 636,
     "metadata": {},
     "output_type": "execute_result"
    }
   ],
   "source": [
    "### ONE WAY ANOVA comparing quantity means in the different seasons\n",
    "\n",
    "x = [1 , 2, 3, 4] \n",
    "season_dict = {}\n",
    "for season in x:\n",
    "    season_dict[season] = orders[orders['Season'] == season]['Quantity']\n",
    "    \n",
    "stats.f_oneway(\n",
    "             season_dict[1], season_dict[2], \\\n",
    "             season_dict[3], season_dict[4]\n",
    ")"
   ]
  },
  {
   "cell_type": "markdown",
   "metadata": {},
   "source": [
    "### Answer: There seems to be a seasonal trend in quantity sold, based on the ANOVA"
   ]
  },
  {
   "cell_type": "markdown",
   "metadata": {},
   "source": [
    "## 2.2 Seasonal trend in Category"
   ]
  },
  {
   "cell_type": "code",
   "execution_count": 639,
   "metadata": {},
   "outputs": [
    {
     "data": {
      "text/plain": [
       "Office Supplies    31289\n",
       "Technology         10141\n",
       "Furniture           9860\n",
       "Name: Category, dtype: int64"
      ]
     },
     "execution_count": 639,
     "metadata": {},
     "output_type": "execute_result"
    }
   ],
   "source": [
    "orders.Category.value_counts()"
   ]
  },
  {
   "cell_type": "markdown",
   "metadata": {},
   "source": [
    "### ANOVA"
   ]
  },
  {
   "cell_type": "code",
   "execution_count": 643,
   "metadata": {},
   "outputs": [
    {
     "data": {
      "text/plain": [
       "F_onewayResult(statistic=nan, pvalue=nan)"
      ]
     },
     "execution_count": 643,
     "metadata": {},
     "output_type": "execute_result"
    }
   ],
   "source": [
    "x = [1 , 2,  3] \n",
    "cat_dict = {}\n",
    "for category in x:\n",
    "    cat_dict[category] = orders[orders['Category'] == category]['Quantity']\n",
    "    \n",
    "stats.f_oneway(\n",
    "             cat_dict[1], cat_dict[2], \\\n",
    "             cat_dict[3]\n",
    ")"
   ]
  },
  {
   "cell_type": "markdown",
   "metadata": {},
   "source": [
    "### 2.Answer based on analysis\n",
    "\n",
    "There was a significant F test for Quantity during each season, Need to see why my category test is not working."
   ]
  },
  {
   "cell_type": "markdown",
   "metadata": {},
   "source": [
    "### Problem 3: Why did customers make returns?\n",
    "- Your manager required you to give a brief report (**Plots + Interpretations**) on returned orders.\n",
    "\n",
    "\t1. How much profit did we lose due to returns each year?\n",
    "\n",
    "\n",
    "\t2. How many customer returned more than once? more than 5 times?\n",
    "\n",
    "\n",
    "\t3. Which regions are more likely to return orders?\n",
    "\n",
    "\n",
    "\t4. Which categories (sub-categories) of products are more likely to be returned?\n",
    "\n",
    "- ***Hint:*** Merge the **Returns** dataframe with the **Orders** dataframe using `Order.ID`.\n"
   ]
  },
  {
   "cell_type": "code",
   "execution_count": 443,
   "metadata": {},
   "outputs": [],
   "source": [
    "returns = pd.read_csv('Returns.csv', index_col=0)\n",
    "orders = pd.read_csv('Orders.csv', index_col=0 )"
   ]
  },
  {
   "cell_type": "code",
   "execution_count": 444,
   "metadata": {},
   "outputs": [
    {
     "data": {
      "text/html": [
       "<div>\n",
       "<style scoped>\n",
       "    .dataframe tbody tr th:only-of-type {\n",
       "        vertical-align: middle;\n",
       "    }\n",
       "\n",
       "    .dataframe tbody tr th {\n",
       "        vertical-align: top;\n",
       "    }\n",
       "\n",
       "    .dataframe thead th {\n",
       "        text-align: right;\n",
       "    }\n",
       "</style>\n",
       "<table border=\"1\" class=\"dataframe\">\n",
       "  <thead>\n",
       "    <tr style=\"text-align: right;\">\n",
       "      <th></th>\n",
       "      <th>Order ID</th>\n",
       "      <th>Region</th>\n",
       "    </tr>\n",
       "    <tr>\n",
       "      <th>Returned</th>\n",
       "      <th></th>\n",
       "      <th></th>\n",
       "    </tr>\n",
       "  </thead>\n",
       "  <tbody>\n",
       "    <tr>\n",
       "      <th>Yes</th>\n",
       "      <td>CA-2012-SA20830140-41210</td>\n",
       "      <td>Central US</td>\n",
       "    </tr>\n",
       "    <tr>\n",
       "      <th>Yes</th>\n",
       "      <td>IN-2012-PB19210127-41259</td>\n",
       "      <td>Eastern Asia</td>\n",
       "    </tr>\n",
       "    <tr>\n",
       "      <th>Yes</th>\n",
       "      <td>CA-2012-SC20095140-41174</td>\n",
       "      <td>Central US</td>\n",
       "    </tr>\n",
       "    <tr>\n",
       "      <th>Yes</th>\n",
       "      <td>IN-2015-JH158207-42140</td>\n",
       "      <td>Oceania</td>\n",
       "    </tr>\n",
       "    <tr>\n",
       "      <th>Yes</th>\n",
       "      <td>IN-2014-LC168857-41747</td>\n",
       "      <td>Oceania</td>\n",
       "    </tr>\n",
       "  </tbody>\n",
       "</table>\n",
       "</div>"
      ],
      "text/plain": [
       "                          Order ID        Region\n",
       "Returned                                        \n",
       "Yes       CA-2012-SA20830140-41210    Central US\n",
       "Yes       IN-2012-PB19210127-41259  Eastern Asia\n",
       "Yes       CA-2012-SC20095140-41174    Central US\n",
       "Yes         IN-2015-JH158207-42140       Oceania\n",
       "Yes         IN-2014-LC168857-41747       Oceania"
      ]
     },
     "execution_count": 444,
     "metadata": {},
     "output_type": "execute_result"
    }
   ],
   "source": [
    "returns.head()"
   ]
  },
  {
   "cell_type": "code",
   "execution_count": 445,
   "metadata": {},
   "outputs": [
    {
     "data": {
      "text/plain": [
       "Index(['Order.ID', 'Order.Date', 'Ship.Date', 'Ship.Mode', 'Customer.ID',\n",
       "       'Customer.Name', 'Segment', 'Postal.Code', 'City', 'State', 'Country',\n",
       "       'Region', 'Market', 'Product.ID', 'Category', 'Sub.Category',\n",
       "       'Product.Name', 'Sales', 'Quantity', 'Discount', 'Profit',\n",
       "       'Shipping.Cost', 'Order.Priority'],\n",
       "      dtype='object')"
      ]
     },
     "execution_count": 445,
     "metadata": {},
     "output_type": "execute_result"
    }
   ],
   "source": [
    "orders.head()\n",
    "orders.columns"
   ]
  },
  {
   "cell_type": "code",
   "execution_count": 446,
   "metadata": {
    "scrolled": true
   },
   "outputs": [
    {
     "data": {
      "text/html": [
       "<div>\n",
       "<style scoped>\n",
       "    .dataframe tbody tr th:only-of-type {\n",
       "        vertical-align: middle;\n",
       "    }\n",
       "\n",
       "    .dataframe tbody tr th {\n",
       "        vertical-align: top;\n",
       "    }\n",
       "\n",
       "    .dataframe thead th {\n",
       "        text-align: right;\n",
       "    }\n",
       "</style>\n",
       "<table border=\"1\" class=\"dataframe\">\n",
       "  <thead>\n",
       "    <tr style=\"text-align: right;\">\n",
       "      <th></th>\n",
       "      <th>Region</th>\n",
       "      <th>Order.ID</th>\n",
       "      <th>Returned</th>\n",
       "    </tr>\n",
       "    <tr>\n",
       "      <th>Returned</th>\n",
       "      <th></th>\n",
       "      <th></th>\n",
       "      <th></th>\n",
       "    </tr>\n",
       "  </thead>\n",
       "  <tbody>\n",
       "    <tr>\n",
       "      <th>Yes</th>\n",
       "      <td>Central US</td>\n",
       "      <td>CA-2012-SA20830140-41210</td>\n",
       "      <td>Yes</td>\n",
       "    </tr>\n",
       "    <tr>\n",
       "      <th>Yes</th>\n",
       "      <td>Eastern Asia</td>\n",
       "      <td>IN-2012-PB19210127-41259</td>\n",
       "      <td>Yes</td>\n",
       "    </tr>\n",
       "    <tr>\n",
       "      <th>Yes</th>\n",
       "      <td>Central US</td>\n",
       "      <td>CA-2012-SC20095140-41174</td>\n",
       "      <td>Yes</td>\n",
       "    </tr>\n",
       "    <tr>\n",
       "      <th>Yes</th>\n",
       "      <td>Oceania</td>\n",
       "      <td>IN-2015-JH158207-42140</td>\n",
       "      <td>Yes</td>\n",
       "    </tr>\n",
       "    <tr>\n",
       "      <th>Yes</th>\n",
       "      <td>Oceania</td>\n",
       "      <td>IN-2014-LC168857-41747</td>\n",
       "      <td>Yes</td>\n",
       "    </tr>\n",
       "  </tbody>\n",
       "</table>\n",
       "</div>"
      ],
      "text/plain": [
       "                Region                  Order.ID Returned\n",
       "Returned                                                 \n",
       "Yes         Central US  CA-2012-SA20830140-41210      Yes\n",
       "Yes       Eastern Asia  IN-2012-PB19210127-41259      Yes\n",
       "Yes         Central US  CA-2012-SC20095140-41174      Yes\n",
       "Yes            Oceania    IN-2015-JH158207-42140      Yes\n",
       "Yes            Oceania    IN-2014-LC168857-41747      Yes"
      ]
     },
     "execution_count": 446,
     "metadata": {},
     "output_type": "execute_result"
    }
   ],
   "source": [
    "returns['Order.ID'] = returns['Order ID']\n",
    "returns['Returned'] = returns.index\n",
    "\n",
    "\n",
    "returns = returns.drop('Order ID', axis = 1)\n",
    "returns.head()"
   ]
  },
  {
   "cell_type": "code",
   "execution_count": 447,
   "metadata": {},
   "outputs": [
    {
     "data": {
      "text/html": [
       "<div>\n",
       "<style scoped>\n",
       "    .dataframe tbody tr th:only-of-type {\n",
       "        vertical-align: middle;\n",
       "    }\n",
       "\n",
       "    .dataframe tbody tr th {\n",
       "        vertical-align: top;\n",
       "    }\n",
       "\n",
       "    .dataframe thead th {\n",
       "        text-align: right;\n",
       "    }\n",
       "</style>\n",
       "<table border=\"1\" class=\"dataframe\">\n",
       "  <thead>\n",
       "    <tr style=\"text-align: right;\">\n",
       "      <th></th>\n",
       "      <th>Region_x</th>\n",
       "      <th>Order.ID</th>\n",
       "      <th>Returned</th>\n",
       "      <th>Order.Date</th>\n",
       "      <th>Ship.Date</th>\n",
       "      <th>Ship.Mode</th>\n",
       "      <th>Customer.ID</th>\n",
       "      <th>Customer.Name</th>\n",
       "      <th>Segment</th>\n",
       "      <th>Postal.Code</th>\n",
       "      <th>...</th>\n",
       "      <th>Product.ID</th>\n",
       "      <th>Category</th>\n",
       "      <th>Sub.Category</th>\n",
       "      <th>Product.Name</th>\n",
       "      <th>Sales</th>\n",
       "      <th>Quantity</th>\n",
       "      <th>Discount</th>\n",
       "      <th>Profit</th>\n",
       "      <th>Shipping.Cost</th>\n",
       "      <th>Order.Priority</th>\n",
       "    </tr>\n",
       "  </thead>\n",
       "  <tbody>\n",
       "    <tr>\n",
       "      <th>0</th>\n",
       "      <td>Central US</td>\n",
       "      <td>CA-2012-SA20830140-41210</td>\n",
       "      <td>Yes</td>\n",
       "      <td>10/28/12</td>\n",
       "      <td>10/30/12</td>\n",
       "      <td>First Class</td>\n",
       "      <td>SA-208301402</td>\n",
       "      <td>Sue Ann Reed</td>\n",
       "      <td>Consumer</td>\n",
       "      <td>60610.0</td>\n",
       "      <td>...</td>\n",
       "      <td>TEC-PH-3138</td>\n",
       "      <td>Technology</td>\n",
       "      <td>Phones</td>\n",
       "      <td>Apple iPhone 5S</td>\n",
       "      <td>$2,735.95</td>\n",
       "      <td>6</td>\n",
       "      <td>0.2</td>\n",
       "      <td>$341.99</td>\n",
       "      <td>752.51</td>\n",
       "      <td>High</td>\n",
       "    </tr>\n",
       "    <tr>\n",
       "      <th>1</th>\n",
       "      <td>Eastern Asia</td>\n",
       "      <td>IN-2012-PB19210127-41259</td>\n",
       "      <td>Yes</td>\n",
       "      <td>12/16/12</td>\n",
       "      <td>12/19/12</td>\n",
       "      <td>First Class</td>\n",
       "      <td>PB-19210127</td>\n",
       "      <td>Phillip Breyer</td>\n",
       "      <td>Corporate</td>\n",
       "      <td>NaN</td>\n",
       "      <td>...</td>\n",
       "      <td>FUR-TA-5060</td>\n",
       "      <td>Furniture</td>\n",
       "      <td>Tables</td>\n",
       "      <td>Lesro Conference Table, with Bottom Storage</td>\n",
       "      <td>$1,715.16</td>\n",
       "      <td>2</td>\n",
       "      <td>0.0</td>\n",
       "      <td>$720.36</td>\n",
       "      <td>725.57</td>\n",
       "      <td>Critical</td>\n",
       "    </tr>\n",
       "    <tr>\n",
       "      <th>2</th>\n",
       "      <td>Eastern Asia</td>\n",
       "      <td>IN-2012-PB19210127-41259</td>\n",
       "      <td>Yes</td>\n",
       "      <td>12/16/12</td>\n",
       "      <td>12/19/12</td>\n",
       "      <td>First Class</td>\n",
       "      <td>PB-19210127</td>\n",
       "      <td>Phillip Breyer</td>\n",
       "      <td>Corporate</td>\n",
       "      <td>NaN</td>\n",
       "      <td>...</td>\n",
       "      <td>FUR-BO-5762</td>\n",
       "      <td>Furniture</td>\n",
       "      <td>Bookcases</td>\n",
       "      <td>Safco Classic Bookcase, Pine</td>\n",
       "      <td>$2,197.50</td>\n",
       "      <td>5</td>\n",
       "      <td>0.0</td>\n",
       "      <td>$153.75</td>\n",
       "      <td>627.27</td>\n",
       "      <td>Critical</td>\n",
       "    </tr>\n",
       "    <tr>\n",
       "      <th>3</th>\n",
       "      <td>Eastern Asia</td>\n",
       "      <td>IN-2012-PB19210127-41259</td>\n",
       "      <td>Yes</td>\n",
       "      <td>12/16/12</td>\n",
       "      <td>12/19/12</td>\n",
       "      <td>First Class</td>\n",
       "      <td>PB-19210127</td>\n",
       "      <td>Phillip Breyer</td>\n",
       "      <td>Corporate</td>\n",
       "      <td>NaN</td>\n",
       "      <td>...</td>\n",
       "      <td>FUR-TA-5065</td>\n",
       "      <td>Furniture</td>\n",
       "      <td>Tables</td>\n",
       "      <td>Lesro Round Table, with Bottom Storage</td>\n",
       "      <td>$1,356.03</td>\n",
       "      <td>3</td>\n",
       "      <td>0.0</td>\n",
       "      <td>$311.85</td>\n",
       "      <td>458.97</td>\n",
       "      <td>Critical</td>\n",
       "    </tr>\n",
       "    <tr>\n",
       "      <th>4</th>\n",
       "      <td>Eastern Asia</td>\n",
       "      <td>IN-2012-PB19210127-41259</td>\n",
       "      <td>Yes</td>\n",
       "      <td>12/16/12</td>\n",
       "      <td>12/19/12</td>\n",
       "      <td>First Class</td>\n",
       "      <td>PB-19210127</td>\n",
       "      <td>Phillip Breyer</td>\n",
       "      <td>Corporate</td>\n",
       "      <td>NaN</td>\n",
       "      <td>...</td>\n",
       "      <td>FUR-CH-5454</td>\n",
       "      <td>Furniture</td>\n",
       "      <td>Chairs</td>\n",
       "      <td>Office Star Swivel Stool, Adjustable</td>\n",
       "      <td>$882.15</td>\n",
       "      <td>5</td>\n",
       "      <td>0.0</td>\n",
       "      <td>$114.60</td>\n",
       "      <td>203.92</td>\n",
       "      <td>Critical</td>\n",
       "    </tr>\n",
       "  </tbody>\n",
       "</table>\n",
       "<p>5 rows × 25 columns</p>\n",
       "</div>"
      ],
      "text/plain": [
       "       Region_x                  Order.ID Returned Order.Date Ship.Date  \\\n",
       "0    Central US  CA-2012-SA20830140-41210      Yes   10/28/12  10/30/12   \n",
       "1  Eastern Asia  IN-2012-PB19210127-41259      Yes   12/16/12  12/19/12   \n",
       "2  Eastern Asia  IN-2012-PB19210127-41259      Yes   12/16/12  12/19/12   \n",
       "3  Eastern Asia  IN-2012-PB19210127-41259      Yes   12/16/12  12/19/12   \n",
       "4  Eastern Asia  IN-2012-PB19210127-41259      Yes   12/16/12  12/19/12   \n",
       "\n",
       "     Ship.Mode   Customer.ID   Customer.Name    Segment  Postal.Code  ...  \\\n",
       "0  First Class  SA-208301402    Sue Ann Reed   Consumer      60610.0  ...   \n",
       "1  First Class   PB-19210127  Phillip Breyer  Corporate          NaN  ...   \n",
       "2  First Class   PB-19210127  Phillip Breyer  Corporate          NaN  ...   \n",
       "3  First Class   PB-19210127  Phillip Breyer  Corporate          NaN  ...   \n",
       "4  First Class   PB-19210127  Phillip Breyer  Corporate          NaN  ...   \n",
       "\n",
       "    Product.ID    Category Sub.Category  \\\n",
       "0  TEC-PH-3138  Technology       Phones   \n",
       "1  FUR-TA-5060   Furniture       Tables   \n",
       "2  FUR-BO-5762   Furniture    Bookcases   \n",
       "3  FUR-TA-5065   Furniture       Tables   \n",
       "4  FUR-CH-5454   Furniture       Chairs   \n",
       "\n",
       "                                  Product.Name      Sales Quantity Discount  \\\n",
       "0                              Apple iPhone 5S  $2,735.95        6      0.2   \n",
       "1  Lesro Conference Table, with Bottom Storage  $1,715.16        2      0.0   \n",
       "2                 Safco Classic Bookcase, Pine  $2,197.50        5      0.0   \n",
       "3       Lesro Round Table, with Bottom Storage  $1,356.03        3      0.0   \n",
       "4         Office Star Swivel Stool, Adjustable    $882.15        5      0.0   \n",
       "\n",
       "    Profit Shipping.Cost Order.Priority  \n",
       "0  $341.99        752.51           High  \n",
       "1  $720.36        725.57       Critical  \n",
       "2  $153.75        627.27       Critical  \n",
       "3  $311.85        458.97       Critical  \n",
       "4  $114.60        203.92       Critical  \n",
       "\n",
       "[5 rows x 25 columns]"
      ]
     },
     "execution_count": 447,
     "metadata": {},
     "output_type": "execute_result"
    }
   ],
   "source": [
    "orders_merged = pd.merge(returns, orders, how = 'outer', on='Order.ID')\n",
    "\n",
    "orders_merged.head()"
   ]
  },
  {
   "cell_type": "code",
   "execution_count": 448,
   "metadata": {},
   "outputs": [
    {
     "data": {
      "text/plain": [
       "array(['Yes', nan], dtype=object)"
      ]
     },
     "execution_count": 448,
     "metadata": {},
     "output_type": "execute_result"
    }
   ],
   "source": [
    "orders_merged.Returned.unique()"
   ]
  },
  {
   "cell_type": "code",
   "execution_count": 449,
   "metadata": {},
   "outputs": [
    {
     "data": {
      "text/plain": [
       "array(['Yes', 'No'], dtype=object)"
      ]
     },
     "execution_count": 449,
     "metadata": {},
     "output_type": "execute_result"
    }
   ],
   "source": [
    "impute_none = orders_merged.loc[:, ['Returned']]\n",
    "for i in impute_none.columns:\n",
    "    orders_merged[i].fillna('No', inplace = True)\n",
    "    \n",
    "orders_merged.Returned.unique()"
   ]
  },
  {
   "cell_type": "code",
   "execution_count": 664,
   "metadata": {
    "scrolled": true
   },
   "outputs": [
    {
     "ename": "AttributeError",
     "evalue": "Can only use .str accessor with string values, which use np.object_ dtype in pandas",
     "output_type": "error",
     "traceback": [
      "\u001b[0;31m---------------------------------------------------------------------------\u001b[0m",
      "\u001b[0;31mAttributeError\u001b[0m                            Traceback (most recent call last)",
      "\u001b[0;32m<ipython-input-664-c23f8c9fea89>\u001b[0m in \u001b[0;36m<module>\u001b[0;34m\u001b[0m\n\u001b[0;32m----> 1\u001b[0;31m \u001b[0morders_merged\u001b[0m\u001b[0;34m[\u001b[0m\u001b[0;34m'Profit'\u001b[0m\u001b[0;34m]\u001b[0m \u001b[0;34m=\u001b[0m \u001b[0morders_merged\u001b[0m\u001b[0;34m[\u001b[0m\u001b[0;34m'Profit'\u001b[0m\u001b[0;34m]\u001b[0m\u001b[0;34m.\u001b[0m\u001b[0mstr\u001b[0m\u001b[0;34m.\u001b[0m\u001b[0mreplace\u001b[0m\u001b[0;34m(\u001b[0m\u001b[0;34m'$'\u001b[0m\u001b[0;34m,\u001b[0m\u001b[0;34m''\u001b[0m\u001b[0;34m)\u001b[0m\u001b[0;34m\u001b[0m\u001b[0;34m\u001b[0m\u001b[0m\n\u001b[0m\u001b[1;32m      2\u001b[0m \u001b[0morders_merged\u001b[0m\u001b[0;34m[\u001b[0m\u001b[0;34m'Profit'\u001b[0m\u001b[0;34m]\u001b[0m \u001b[0;34m=\u001b[0m \u001b[0morders_merged\u001b[0m\u001b[0;34m[\u001b[0m\u001b[0;34m'Profit'\u001b[0m\u001b[0;34m]\u001b[0m\u001b[0;34m.\u001b[0m\u001b[0mstr\u001b[0m\u001b[0;34m.\u001b[0m\u001b[0mreplace\u001b[0m\u001b[0;34m(\u001b[0m\u001b[0;34m'.'\u001b[0m\u001b[0;34m,\u001b[0m \u001b[0;34m''\u001b[0m\u001b[0;34m)\u001b[0m\u001b[0;34m\u001b[0m\u001b[0;34m\u001b[0m\u001b[0m\n\u001b[1;32m      3\u001b[0m \u001b[0morders_merged\u001b[0m\u001b[0;34m[\u001b[0m\u001b[0;34m'Profit'\u001b[0m\u001b[0;34m]\u001b[0m \u001b[0;34m=\u001b[0m \u001b[0morders_merged\u001b[0m\u001b[0;34m[\u001b[0m\u001b[0;34m'Profit'\u001b[0m\u001b[0;34m]\u001b[0m\u001b[0;34m.\u001b[0m\u001b[0mstr\u001b[0m\u001b[0;34m.\u001b[0m\u001b[0mreplace\u001b[0m\u001b[0;34m(\u001b[0m\u001b[0;34m','\u001b[0m\u001b[0;34m,\u001b[0m \u001b[0;34m''\u001b[0m\u001b[0;34m)\u001b[0m\u001b[0;34m\u001b[0m\u001b[0;34m\u001b[0m\u001b[0m\n\u001b[1;32m      4\u001b[0m \u001b[0;34m\u001b[0m\u001b[0m\n\u001b[1;32m      5\u001b[0m \u001b[0morders_merged\u001b[0m\u001b[0;34m[\u001b[0m\u001b[0;34m'Profit'\u001b[0m\u001b[0;34m]\u001b[0m \u001b[0;34m=\u001b[0m \u001b[0mpd\u001b[0m\u001b[0;34m.\u001b[0m\u001b[0mto_numeric\u001b[0m\u001b[0;34m(\u001b[0m\u001b[0morders_merged\u001b[0m\u001b[0;34m[\u001b[0m\u001b[0;34m'Profit'\u001b[0m\u001b[0;34m]\u001b[0m\u001b[0;34m)\u001b[0m\u001b[0;34m\u001b[0m\u001b[0;34m\u001b[0m\u001b[0m\n",
      "\u001b[0;32m~/anaconda3/lib/python3.7/site-packages/pandas/core/generic.py\u001b[0m in \u001b[0;36m__getattr__\u001b[0;34m(self, name)\u001b[0m\n\u001b[1;32m   5061\u001b[0m         if (name in self._internal_names_set or name in self._metadata or\n\u001b[1;32m   5062\u001b[0m                 name in self._accessors):\n\u001b[0;32m-> 5063\u001b[0;31m             \u001b[0;32mreturn\u001b[0m \u001b[0mobject\u001b[0m\u001b[0;34m.\u001b[0m\u001b[0m__getattribute__\u001b[0m\u001b[0;34m(\u001b[0m\u001b[0mself\u001b[0m\u001b[0;34m,\u001b[0m \u001b[0mname\u001b[0m\u001b[0;34m)\u001b[0m\u001b[0;34m\u001b[0m\u001b[0;34m\u001b[0m\u001b[0m\n\u001b[0m\u001b[1;32m   5064\u001b[0m         \u001b[0;32melse\u001b[0m\u001b[0;34m:\u001b[0m\u001b[0;34m\u001b[0m\u001b[0;34m\u001b[0m\u001b[0m\n\u001b[1;32m   5065\u001b[0m             \u001b[0;32mif\u001b[0m \u001b[0mself\u001b[0m\u001b[0;34m.\u001b[0m\u001b[0m_info_axis\u001b[0m\u001b[0;34m.\u001b[0m\u001b[0m_can_hold_identifiers_and_holds_name\u001b[0m\u001b[0;34m(\u001b[0m\u001b[0mname\u001b[0m\u001b[0;34m)\u001b[0m\u001b[0;34m:\u001b[0m\u001b[0;34m\u001b[0m\u001b[0;34m\u001b[0m\u001b[0m\n",
      "\u001b[0;32m~/anaconda3/lib/python3.7/site-packages/pandas/core/accessor.py\u001b[0m in \u001b[0;36m__get__\u001b[0;34m(self, obj, cls)\u001b[0m\n\u001b[1;32m    169\u001b[0m             \u001b[0;31m# we're accessing the attribute of the class, i.e., Dataset.geo\u001b[0m\u001b[0;34m\u001b[0m\u001b[0;34m\u001b[0m\u001b[0;34m\u001b[0m\u001b[0m\n\u001b[1;32m    170\u001b[0m             \u001b[0;32mreturn\u001b[0m \u001b[0mself\u001b[0m\u001b[0;34m.\u001b[0m\u001b[0m_accessor\u001b[0m\u001b[0;34m\u001b[0m\u001b[0;34m\u001b[0m\u001b[0m\n\u001b[0;32m--> 171\u001b[0;31m         \u001b[0maccessor_obj\u001b[0m \u001b[0;34m=\u001b[0m \u001b[0mself\u001b[0m\u001b[0;34m.\u001b[0m\u001b[0m_accessor\u001b[0m\u001b[0;34m(\u001b[0m\u001b[0mobj\u001b[0m\u001b[0;34m)\u001b[0m\u001b[0;34m\u001b[0m\u001b[0;34m\u001b[0m\u001b[0m\n\u001b[0m\u001b[1;32m    172\u001b[0m         \u001b[0;31m# Replace the property with the accessor object. Inspired by:\u001b[0m\u001b[0;34m\u001b[0m\u001b[0;34m\u001b[0m\u001b[0;34m\u001b[0m\u001b[0m\n\u001b[1;32m    173\u001b[0m         \u001b[0;31m# http://www.pydanny.com/cached-property.html\u001b[0m\u001b[0;34m\u001b[0m\u001b[0;34m\u001b[0m\u001b[0;34m\u001b[0m\u001b[0m\n",
      "\u001b[0;32m~/anaconda3/lib/python3.7/site-packages/pandas/core/strings.py\u001b[0m in \u001b[0;36m__init__\u001b[0;34m(self, data)\u001b[0m\n\u001b[1;32m   1794\u001b[0m \u001b[0;34m\u001b[0m\u001b[0m\n\u001b[1;32m   1795\u001b[0m     \u001b[0;32mdef\u001b[0m \u001b[0m__init__\u001b[0m\u001b[0;34m(\u001b[0m\u001b[0mself\u001b[0m\u001b[0;34m,\u001b[0m \u001b[0mdata\u001b[0m\u001b[0;34m)\u001b[0m\u001b[0;34m:\u001b[0m\u001b[0;34m\u001b[0m\u001b[0;34m\u001b[0m\u001b[0m\n\u001b[0;32m-> 1796\u001b[0;31m         \u001b[0mself\u001b[0m\u001b[0;34m.\u001b[0m\u001b[0m_validate\u001b[0m\u001b[0;34m(\u001b[0m\u001b[0mdata\u001b[0m\u001b[0;34m)\u001b[0m\u001b[0;34m\u001b[0m\u001b[0;34m\u001b[0m\u001b[0m\n\u001b[0m\u001b[1;32m   1797\u001b[0m         \u001b[0mself\u001b[0m\u001b[0;34m.\u001b[0m\u001b[0m_is_categorical\u001b[0m \u001b[0;34m=\u001b[0m \u001b[0mis_categorical_dtype\u001b[0m\u001b[0;34m(\u001b[0m\u001b[0mdata\u001b[0m\u001b[0;34m)\u001b[0m\u001b[0;34m\u001b[0m\u001b[0;34m\u001b[0m\u001b[0m\n\u001b[1;32m   1798\u001b[0m \u001b[0;34m\u001b[0m\u001b[0m\n",
      "\u001b[0;32m~/anaconda3/lib/python3.7/site-packages/pandas/core/strings.py\u001b[0m in \u001b[0;36m_validate\u001b[0;34m(data)\u001b[0m\n\u001b[1;32m   1816\u001b[0m             \u001b[0;31m# (instead of test for object dtype), but that isn't practical for\u001b[0m\u001b[0;34m\u001b[0m\u001b[0;34m\u001b[0m\u001b[0;34m\u001b[0m\u001b[0m\n\u001b[1;32m   1817\u001b[0m             \u001b[0;31m# performance reasons until we have a str dtype (GH 9343)\u001b[0m\u001b[0;34m\u001b[0m\u001b[0;34m\u001b[0m\u001b[0;34m\u001b[0m\u001b[0m\n\u001b[0;32m-> 1818\u001b[0;31m             raise AttributeError(\"Can only use .str accessor with string \"\n\u001b[0m\u001b[1;32m   1819\u001b[0m                                  \u001b[0;34m\"values, which use np.object_ dtype in \"\u001b[0m\u001b[0;34m\u001b[0m\u001b[0;34m\u001b[0m\u001b[0m\n\u001b[1;32m   1820\u001b[0m                                  \"pandas\")\n",
      "\u001b[0;31mAttributeError\u001b[0m: Can only use .str accessor with string values, which use np.object_ dtype in pandas"
     ]
    }
   ],
   "source": [
    "orders_merged['Profit'] = orders_merged['Profit'].str.replace('$','')\n",
    "orders_merged['Profit'] = orders_merged['Profit'].str.replace('.', '')\n",
    "orders_merged['Profit'] = orders_merged['Profit'].str.replace(',', '')\n",
    "\n",
    "orders_merged['Profit'] = pd.to_numeric(orders_merged['Profit'])\n"
   ]
  },
  {
   "cell_type": "code",
   "execution_count": 451,
   "metadata": {},
   "outputs": [],
   "source": [
    "orders_merged['Sales'] = orders_merged['Sales'].str.replace('$','')\n",
    "orders_merged['Sales'] = orders_merged['Sales'].str.replace('.', '')\n",
    "orders_merged['Sales'] = orders_merged['Sales'].str.replace(',', '')\n",
    "\n",
    "orders_merged['Sales'] = pd.to_numeric(orders_merged['Sales'])"
   ]
  },
  {
   "cell_type": "code",
   "execution_count": 452,
   "metadata": {},
   "outputs": [],
   "source": [
    "orders_merged['Loss'] = [ row.Sales - row.Profit for index, row in orders_merged.iterrows() ]"
   ]
  },
  {
   "cell_type": "code",
   "execution_count": 453,
   "metadata": {},
   "outputs": [
    {
     "data": {
      "text/html": [
       "<div>\n",
       "<style scoped>\n",
       "    .dataframe tbody tr th:only-of-type {\n",
       "        vertical-align: middle;\n",
       "    }\n",
       "\n",
       "    .dataframe tbody tr th {\n",
       "        vertical-align: top;\n",
       "    }\n",
       "\n",
       "    .dataframe thead th {\n",
       "        text-align: right;\n",
       "    }\n",
       "</style>\n",
       "<table border=\"1\" class=\"dataframe\">\n",
       "  <thead>\n",
       "    <tr style=\"text-align: right;\">\n",
       "      <th></th>\n",
       "      <th>Region_x</th>\n",
       "      <th>Order.ID</th>\n",
       "      <th>Returned</th>\n",
       "      <th>Order.Date</th>\n",
       "      <th>Ship.Date</th>\n",
       "      <th>Ship.Mode</th>\n",
       "      <th>Customer.ID</th>\n",
       "      <th>Customer.Name</th>\n",
       "      <th>Segment</th>\n",
       "      <th>Postal.Code</th>\n",
       "      <th>...</th>\n",
       "      <th>Sub.Category</th>\n",
       "      <th>Product.Name</th>\n",
       "      <th>Sales</th>\n",
       "      <th>Quantity</th>\n",
       "      <th>Discount</th>\n",
       "      <th>Profit</th>\n",
       "      <th>Shipping.Cost</th>\n",
       "      <th>Order.Priority</th>\n",
       "      <th>Loss</th>\n",
       "      <th>Year</th>\n",
       "    </tr>\n",
       "  </thead>\n",
       "  <tbody>\n",
       "    <tr>\n",
       "      <th>0</th>\n",
       "      <td>Central US</td>\n",
       "      <td>CA-2012-SA20830140-41210</td>\n",
       "      <td>Yes</td>\n",
       "      <td>10/28/12</td>\n",
       "      <td>10/30/12</td>\n",
       "      <td>First Class</td>\n",
       "      <td>SA-208301402</td>\n",
       "      <td>Sue Ann Reed</td>\n",
       "      <td>Consumer</td>\n",
       "      <td>60610.0</td>\n",
       "      <td>...</td>\n",
       "      <td>Phones</td>\n",
       "      <td>Apple iPhone 5S</td>\n",
       "      <td>273595</td>\n",
       "      <td>6</td>\n",
       "      <td>0.2</td>\n",
       "      <td>34199</td>\n",
       "      <td>752.51</td>\n",
       "      <td>High</td>\n",
       "      <td>239396</td>\n",
       "      <td>2012</td>\n",
       "    </tr>\n",
       "    <tr>\n",
       "      <th>1</th>\n",
       "      <td>Eastern Asia</td>\n",
       "      <td>IN-2012-PB19210127-41259</td>\n",
       "      <td>Yes</td>\n",
       "      <td>12/16/12</td>\n",
       "      <td>12/19/12</td>\n",
       "      <td>First Class</td>\n",
       "      <td>PB-19210127</td>\n",
       "      <td>Phillip Breyer</td>\n",
       "      <td>Corporate</td>\n",
       "      <td>NaN</td>\n",
       "      <td>...</td>\n",
       "      <td>Tables</td>\n",
       "      <td>Lesro Conference Table, with Bottom Storage</td>\n",
       "      <td>171516</td>\n",
       "      <td>2</td>\n",
       "      <td>0.0</td>\n",
       "      <td>72036</td>\n",
       "      <td>725.57</td>\n",
       "      <td>Critical</td>\n",
       "      <td>99480</td>\n",
       "      <td>2012</td>\n",
       "    </tr>\n",
       "    <tr>\n",
       "      <th>2</th>\n",
       "      <td>Eastern Asia</td>\n",
       "      <td>IN-2012-PB19210127-41259</td>\n",
       "      <td>Yes</td>\n",
       "      <td>12/16/12</td>\n",
       "      <td>12/19/12</td>\n",
       "      <td>First Class</td>\n",
       "      <td>PB-19210127</td>\n",
       "      <td>Phillip Breyer</td>\n",
       "      <td>Corporate</td>\n",
       "      <td>NaN</td>\n",
       "      <td>...</td>\n",
       "      <td>Bookcases</td>\n",
       "      <td>Safco Classic Bookcase, Pine</td>\n",
       "      <td>219750</td>\n",
       "      <td>5</td>\n",
       "      <td>0.0</td>\n",
       "      <td>15375</td>\n",
       "      <td>627.27</td>\n",
       "      <td>Critical</td>\n",
       "      <td>204375</td>\n",
       "      <td>2012</td>\n",
       "    </tr>\n",
       "    <tr>\n",
       "      <th>3</th>\n",
       "      <td>Eastern Asia</td>\n",
       "      <td>IN-2012-PB19210127-41259</td>\n",
       "      <td>Yes</td>\n",
       "      <td>12/16/12</td>\n",
       "      <td>12/19/12</td>\n",
       "      <td>First Class</td>\n",
       "      <td>PB-19210127</td>\n",
       "      <td>Phillip Breyer</td>\n",
       "      <td>Corporate</td>\n",
       "      <td>NaN</td>\n",
       "      <td>...</td>\n",
       "      <td>Tables</td>\n",
       "      <td>Lesro Round Table, with Bottom Storage</td>\n",
       "      <td>135603</td>\n",
       "      <td>3</td>\n",
       "      <td>0.0</td>\n",
       "      <td>31185</td>\n",
       "      <td>458.97</td>\n",
       "      <td>Critical</td>\n",
       "      <td>104418</td>\n",
       "      <td>2012</td>\n",
       "    </tr>\n",
       "    <tr>\n",
       "      <th>4</th>\n",
       "      <td>Eastern Asia</td>\n",
       "      <td>IN-2012-PB19210127-41259</td>\n",
       "      <td>Yes</td>\n",
       "      <td>12/16/12</td>\n",
       "      <td>12/19/12</td>\n",
       "      <td>First Class</td>\n",
       "      <td>PB-19210127</td>\n",
       "      <td>Phillip Breyer</td>\n",
       "      <td>Corporate</td>\n",
       "      <td>NaN</td>\n",
       "      <td>...</td>\n",
       "      <td>Chairs</td>\n",
       "      <td>Office Star Swivel Stool, Adjustable</td>\n",
       "      <td>88215</td>\n",
       "      <td>5</td>\n",
       "      <td>0.0</td>\n",
       "      <td>11460</td>\n",
       "      <td>203.92</td>\n",
       "      <td>Critical</td>\n",
       "      <td>76755</td>\n",
       "      <td>2012</td>\n",
       "    </tr>\n",
       "  </tbody>\n",
       "</table>\n",
       "<p>5 rows × 27 columns</p>\n",
       "</div>"
      ],
      "text/plain": [
       "       Region_x                  Order.ID Returned Order.Date Ship.Date  \\\n",
       "0    Central US  CA-2012-SA20830140-41210      Yes   10/28/12  10/30/12   \n",
       "1  Eastern Asia  IN-2012-PB19210127-41259      Yes   12/16/12  12/19/12   \n",
       "2  Eastern Asia  IN-2012-PB19210127-41259      Yes   12/16/12  12/19/12   \n",
       "3  Eastern Asia  IN-2012-PB19210127-41259      Yes   12/16/12  12/19/12   \n",
       "4  Eastern Asia  IN-2012-PB19210127-41259      Yes   12/16/12  12/19/12   \n",
       "\n",
       "     Ship.Mode   Customer.ID   Customer.Name    Segment  Postal.Code  ...  \\\n",
       "0  First Class  SA-208301402    Sue Ann Reed   Consumer      60610.0  ...   \n",
       "1  First Class   PB-19210127  Phillip Breyer  Corporate          NaN  ...   \n",
       "2  First Class   PB-19210127  Phillip Breyer  Corporate          NaN  ...   \n",
       "3  First Class   PB-19210127  Phillip Breyer  Corporate          NaN  ...   \n",
       "4  First Class   PB-19210127  Phillip Breyer  Corporate          NaN  ...   \n",
       "\n",
       "  Sub.Category                                 Product.Name   Sales Quantity  \\\n",
       "0       Phones                              Apple iPhone 5S  273595        6   \n",
       "1       Tables  Lesro Conference Table, with Bottom Storage  171516        2   \n",
       "2    Bookcases                 Safco Classic Bookcase, Pine  219750        5   \n",
       "3       Tables       Lesro Round Table, with Bottom Storage  135603        3   \n",
       "4       Chairs         Office Star Swivel Stool, Adjustable   88215        5   \n",
       "\n",
       "  Discount Profit Shipping.Cost Order.Priority    Loss  Year  \n",
       "0      0.2  34199        752.51           High  239396  2012  \n",
       "1      0.0  72036        725.57       Critical   99480  2012  \n",
       "2      0.0  15375        627.27       Critical  204375  2012  \n",
       "3      0.0  31185        458.97       Critical  104418  2012  \n",
       "4      0.0  11460        203.92       Critical   76755  2012  \n",
       "\n",
       "[5 rows x 27 columns]"
      ]
     },
     "execution_count": 453,
     "metadata": {},
     "output_type": "execute_result"
    }
   ],
   "source": [
    "orders_merged['Year'] = pd.DatetimeIndex(orders_merged['Order.Date']).year\n",
    "\n",
    "orders_merged.head()"
   ]
  },
  {
   "cell_type": "markdown",
   "metadata": {},
   "source": [
    "### 3.1 How much Profit is lost per Year"
   ]
  },
  {
   "cell_type": "code",
   "execution_count": 454,
   "metadata": {},
   "outputs": [
    {
     "name": "stdout",
     "output_type": "stream",
     "text": [
      "Profit: count     51290.000000\n",
      "mean       2861.097036\n",
      "std       17434.106592\n",
      "min     -659998.000000\n",
      "25%           0.000000\n",
      "50%         924.000000\n",
      "75%        3681.000000\n",
      "max      839998.000000\n",
      "Name: Profit, dtype: float64\n",
      "Loss: count    5.129000e+04\n",
      "mean     2.178797e+04\n",
      "std      4.309016e+04\n",
      "min      5.500000e+01\n",
      "25%      2.688000e+03\n",
      "50%      7.363500e+03\n",
      "75%      2.229650e+04\n",
      "max      2.444956e+06\n",
      "Name: Loss, dtype: float64\n"
     ]
    }
   ],
   "source": [
    "print('Profit:', orders_merged.Profit.describe())\n",
    "print('Loss:', orders_merged.Loss.describe())"
   ]
  },
  {
   "cell_type": "code",
   "execution_count": 458,
   "metadata": {},
   "outputs": [],
   "source": [
    "thresholdhigh = 500000\n",
    "thresholdlow = 55\n",
    "orders_merged = orders_merged[orders_merged.loc[:,'Loss'] < thresholdhigh]\n",
    "orders_merged = orders_merged[orders_merged.loc[:,'Loss'] > thresholdlow]\n"
   ]
  },
  {
   "cell_type": "code",
   "execution_count": 459,
   "metadata": {},
   "outputs": [],
   "source": [
    "thresholdhigh = 840000\n",
    "thresholdlow = -70000\n",
    "orders_merged = orders_merged[orders_merged.loc[:,'Loss'] < thresholdhigh]\n",
    "orders_merged = orders_merged[orders_merged.loc[:,'Loss'] > thresholdlow]"
   ]
  },
  {
   "cell_type": "code",
   "execution_count": 460,
   "metadata": {
    "scrolled": true
   },
   "outputs": [
    {
     "data": {
      "image/png": "[encoded data removed]",
      "text/plain": [
       "<Figure size 864x432 with 8 Axes>"
      ]
     },
     "metadata": {
      "needs_background": "light"
     },
     "output_type": "display_data"
    }
   ],
   "source": [
    "g = sns.FacetGrid(orders_merged, col=\"Year\",  row=\"Returned\")\n",
    "g = g.map(plt.scatter, \"Loss\", \"Profit\", edgecolor=\"w\")"
   ]
  },
  {
   "cell_type": "code",
   "execution_count": 379,
   "metadata": {
    "scrolled": true
   },
   "outputs": [],
   "source": [
    "loss = pd.DataFrame(orders_merged.groupby([\"Year\", 'Returned']).sum().sort_values(\"Profit\", ascending=False))"
   ]
  },
  {
   "cell_type": "code",
   "execution_count": 380,
   "metadata": {
    "scrolled": true
   },
   "outputs": [
    {
     "data": {
      "text/html": [
       "<div>\n",
       "<style scoped>\n",
       "    .dataframe tbody tr th:only-of-type {\n",
       "        vertical-align: middle;\n",
       "    }\n",
       "\n",
       "    .dataframe tbody tr th {\n",
       "        vertical-align: top;\n",
       "    }\n",
       "\n",
       "    .dataframe thead th {\n",
       "        text-align: right;\n",
       "    }\n",
       "</style>\n",
       "<table border=\"1\" class=\"dataframe\">\n",
       "  <thead>\n",
       "    <tr style=\"text-align: right;\">\n",
       "      <th></th>\n",
       "      <th></th>\n",
       "      <th>Postal.Code</th>\n",
       "      <th>Sales</th>\n",
       "      <th>Quantity</th>\n",
       "      <th>Discount</th>\n",
       "      <th>Profit</th>\n",
       "      <th>Shipping.Cost</th>\n",
       "      <th>Loss</th>\n",
       "    </tr>\n",
       "    <tr>\n",
       "      <th>Year</th>\n",
       "      <th>Returned</th>\n",
       "      <th></th>\n",
       "      <th></th>\n",
       "      <th></th>\n",
       "      <th></th>\n",
       "      <th></th>\n",
       "      <th></th>\n",
       "      <th></th>\n",
       "    </tr>\n",
       "  </thead>\n",
       "  <tbody>\n",
       "    <tr>\n",
       "      <th>2015-01-01</th>\n",
       "      <th>No</th>\n",
       "      <td>178651790.0</td>\n",
       "      <td>411618369</td>\n",
       "      <td>58008</td>\n",
       "      <td>2401.052</td>\n",
       "      <td>48705313</td>\n",
       "      <td>441114.47654</td>\n",
       "      <td>362913056</td>\n",
       "    </tr>\n",
       "    <tr>\n",
       "      <th>2014-01-01</th>\n",
       "      <th>No</th>\n",
       "      <td>132535324.0</td>\n",
       "      <td>327201062</td>\n",
       "      <td>46040</td>\n",
       "      <td>1853.808</td>\n",
       "      <td>38942426</td>\n",
       "      <td>350100.31836</td>\n",
       "      <td>288258636</td>\n",
       "    </tr>\n",
       "    <tr>\n",
       "      <th>2013-01-01</th>\n",
       "      <th>No</th>\n",
       "      <td>106182766.0</td>\n",
       "      <td>258086470</td>\n",
       "      <td>36603</td>\n",
       "      <td>1481.914</td>\n",
       "      <td>29814544</td>\n",
       "      <td>273453.15200</td>\n",
       "      <td>228271926</td>\n",
       "    </tr>\n",
       "    <tr>\n",
       "      <th>2012-01-01</th>\n",
       "      <th>No</th>\n",
       "      <td>107758470.0</td>\n",
       "      <td>214751583</td>\n",
       "      <td>29986</td>\n",
       "      <td>1266.426</td>\n",
       "      <td>23146309</td>\n",
       "      <td>232575.16050</td>\n",
       "      <td>191605274</td>\n",
       "    </tr>\n",
       "    <tr>\n",
       "      <th>2014-01-01</th>\n",
       "      <th>Yes</th>\n",
       "      <td>7994617.0</td>\n",
       "      <td>13373741</td>\n",
       "      <td>2096</td>\n",
       "      <td>81.714</td>\n",
       "      <td>1751063</td>\n",
       "      <td>15856.42600</td>\n",
       "      <td>11622678</td>\n",
       "    </tr>\n",
       "    <tr>\n",
       "      <th>2012-01-01</th>\n",
       "      <th>Yes</th>\n",
       "      <td>5512777.0</td>\n",
       "      <td>11193581</td>\n",
       "      <td>1457</td>\n",
       "      <td>66.968</td>\n",
       "      <td>1747726</td>\n",
       "      <td>12636.18500</td>\n",
       "      <td>9445855</td>\n",
       "    </tr>\n",
       "    <tr>\n",
       "      <th>2015-01-01</th>\n",
       "      <th>Yes</th>\n",
       "      <td>7911427.0</td>\n",
       "      <td>18368398</td>\n",
       "      <td>2614</td>\n",
       "      <td>110.986</td>\n",
       "      <td>1711297</td>\n",
       "      <td>21212.31300</td>\n",
       "      <td>16657101</td>\n",
       "    </tr>\n",
       "    <tr>\n",
       "      <th>2013-01-01</th>\n",
       "      <th>Yes</th>\n",
       "      <td>5025481.0</td>\n",
       "      <td>9657521</td>\n",
       "      <td>1508</td>\n",
       "      <td>66.860</td>\n",
       "      <td>926989</td>\n",
       "      <td>11137.67200</td>\n",
       "      <td>8730532</td>\n",
       "    </tr>\n",
       "  </tbody>\n",
       "</table>\n",
       "</div>"
      ],
      "text/plain": [
       "                     Postal.Code      Sales  Quantity  Discount    Profit  \\\n",
       "Year       Returned                                                         \n",
       "2015-01-01 No        178651790.0  411618369     58008  2401.052  48705313   \n",
       "2014-01-01 No        132535324.0  327201062     46040  1853.808  38942426   \n",
       "2013-01-01 No        106182766.0  258086470     36603  1481.914  29814544   \n",
       "2012-01-01 No        107758470.0  214751583     29986  1266.426  23146309   \n",
       "2014-01-01 Yes         7994617.0   13373741      2096    81.714   1751063   \n",
       "2012-01-01 Yes         5512777.0   11193581      1457    66.968   1747726   \n",
       "2015-01-01 Yes         7911427.0   18368398      2614   110.986   1711297   \n",
       "2013-01-01 Yes         5025481.0    9657521      1508    66.860    926989   \n",
       "\n",
       "                     Shipping.Cost       Loss  \n",
       "Year       Returned                            \n",
       "2015-01-01 No         441114.47654  362913056  \n",
       "2014-01-01 No         350100.31836  288258636  \n",
       "2013-01-01 No         273453.15200  228271926  \n",
       "2012-01-01 No         232575.16050  191605274  \n",
       "2014-01-01 Yes         15856.42600   11622678  \n",
       "2012-01-01 Yes         12636.18500    9445855  \n",
       "2015-01-01 Yes         21212.31300   16657101  \n",
       "2013-01-01 Yes         11137.67200    8730532  "
      ]
     },
     "execution_count": 380,
     "metadata": {},
     "output_type": "execute_result"
    }
   ],
   "source": [
    "loss"
   ]
  },
  {
   "cell_type": "markdown",
   "metadata": {},
   "source": [
    "## Answer:\n",
    "    In 2015, the total profit lost from returned orders was 16,657,101.\n",
    "    In 2014, the total profit lost due to returned orders was 11,622,678.\n",
    "    In 2013, the total profit lost due to returned orders was 8,730,532\n",
    "    In 2012, the total profit lost due to returned orders was 9,445,855\n",
    "\n"
   ]
  },
  {
   "cell_type": "markdown",
   "metadata": {},
   "source": [
    "### 3.2  How many customers returned more than once? more than 5 times?"
   ]
  },
  {
   "cell_type": "code",
   "execution_count": 490,
   "metadata": {},
   "outputs": [
    {
     "data": {
      "text/html": [
       "<div>\n",
       "<style scoped>\n",
       "    .dataframe tbody tr th:only-of-type {\n",
       "        vertical-align: middle;\n",
       "    }\n",
       "\n",
       "    .dataframe tbody tr th {\n",
       "        vertical-align: top;\n",
       "    }\n",
       "\n",
       "    .dataframe thead th {\n",
       "        text-align: right;\n",
       "    }\n",
       "</style>\n",
       "<table border=\"1\" class=\"dataframe\">\n",
       "  <thead>\n",
       "    <tr style=\"text-align: right;\">\n",
       "      <th></th>\n",
       "      <th>Region_x</th>\n",
       "      <th>Order.ID</th>\n",
       "      <th>Returned</th>\n",
       "      <th>Order.Date</th>\n",
       "      <th>Ship.Date</th>\n",
       "      <th>Ship.Mode</th>\n",
       "      <th>Customer.ID</th>\n",
       "      <th>Customer.Name</th>\n",
       "      <th>Segment</th>\n",
       "      <th>Postal.Code</th>\n",
       "      <th>...</th>\n",
       "      <th>Product.Name</th>\n",
       "      <th>Sales</th>\n",
       "      <th>Quantity</th>\n",
       "      <th>Discount</th>\n",
       "      <th>Profit</th>\n",
       "      <th>Shipping.Cost</th>\n",
       "      <th>Order.Priority</th>\n",
       "      <th>Loss</th>\n",
       "      <th>Year</th>\n",
       "      <th>Counts</th>\n",
       "    </tr>\n",
       "  </thead>\n",
       "  <tbody>\n",
       "    <tr>\n",
       "      <th>0</th>\n",
       "      <td>Central US</td>\n",
       "      <td>CA-2012-SA20830140-41210</td>\n",
       "      <td>Yes</td>\n",
       "      <td>10/28/12</td>\n",
       "      <td>10/30/12</td>\n",
       "      <td>First Class</td>\n",
       "      <td>SA-208301402</td>\n",
       "      <td>Sue Ann Reed</td>\n",
       "      <td>Consumer</td>\n",
       "      <td>60610.0</td>\n",
       "      <td>...</td>\n",
       "      <td>Apple iPhone 5S</td>\n",
       "      <td>273595</td>\n",
       "      <td>6</td>\n",
       "      <td>0.2</td>\n",
       "      <td>34199</td>\n",
       "      <td>752.51</td>\n",
       "      <td>High</td>\n",
       "      <td>239396</td>\n",
       "      <td>2012</td>\n",
       "      <td>2</td>\n",
       "    </tr>\n",
       "    <tr>\n",
       "      <th>1</th>\n",
       "      <td>Eastern Asia</td>\n",
       "      <td>IN-2012-PB19210127-41259</td>\n",
       "      <td>Yes</td>\n",
       "      <td>12/16/12</td>\n",
       "      <td>12/19/12</td>\n",
       "      <td>First Class</td>\n",
       "      <td>PB-19210127</td>\n",
       "      <td>Phillip Breyer</td>\n",
       "      <td>Corporate</td>\n",
       "      <td>NaN</td>\n",
       "      <td>...</td>\n",
       "      <td>Lesro Conference Table, with Bottom Storage</td>\n",
       "      <td>171516</td>\n",
       "      <td>2</td>\n",
       "      <td>0.0</td>\n",
       "      <td>72036</td>\n",
       "      <td>725.57</td>\n",
       "      <td>Critical</td>\n",
       "      <td>99480</td>\n",
       "      <td>2012</td>\n",
       "      <td>8</td>\n",
       "    </tr>\n",
       "    <tr>\n",
       "      <th>2</th>\n",
       "      <td>Eastern Asia</td>\n",
       "      <td>IN-2012-PB19210127-41259</td>\n",
       "      <td>Yes</td>\n",
       "      <td>12/16/12</td>\n",
       "      <td>12/19/12</td>\n",
       "      <td>First Class</td>\n",
       "      <td>PB-19210127</td>\n",
       "      <td>Phillip Breyer</td>\n",
       "      <td>Corporate</td>\n",
       "      <td>NaN</td>\n",
       "      <td>...</td>\n",
       "      <td>Safco Classic Bookcase, Pine</td>\n",
       "      <td>219750</td>\n",
       "      <td>5</td>\n",
       "      <td>0.0</td>\n",
       "      <td>15375</td>\n",
       "      <td>627.27</td>\n",
       "      <td>Critical</td>\n",
       "      <td>204375</td>\n",
       "      <td>2012</td>\n",
       "      <td>8</td>\n",
       "    </tr>\n",
       "    <tr>\n",
       "      <th>3</th>\n",
       "      <td>Eastern Asia</td>\n",
       "      <td>IN-2012-PB19210127-41259</td>\n",
       "      <td>Yes</td>\n",
       "      <td>12/16/12</td>\n",
       "      <td>12/19/12</td>\n",
       "      <td>First Class</td>\n",
       "      <td>PB-19210127</td>\n",
       "      <td>Phillip Breyer</td>\n",
       "      <td>Corporate</td>\n",
       "      <td>NaN</td>\n",
       "      <td>...</td>\n",
       "      <td>Lesro Round Table, with Bottom Storage</td>\n",
       "      <td>135603</td>\n",
       "      <td>3</td>\n",
       "      <td>0.0</td>\n",
       "      <td>31185</td>\n",
       "      <td>458.97</td>\n",
       "      <td>Critical</td>\n",
       "      <td>104418</td>\n",
       "      <td>2012</td>\n",
       "      <td>8</td>\n",
       "    </tr>\n",
       "    <tr>\n",
       "      <th>4</th>\n",
       "      <td>Eastern Asia</td>\n",
       "      <td>IN-2012-PB19210127-41259</td>\n",
       "      <td>Yes</td>\n",
       "      <td>12/16/12</td>\n",
       "      <td>12/19/12</td>\n",
       "      <td>First Class</td>\n",
       "      <td>PB-19210127</td>\n",
       "      <td>Phillip Breyer</td>\n",
       "      <td>Corporate</td>\n",
       "      <td>NaN</td>\n",
       "      <td>...</td>\n",
       "      <td>Office Star Swivel Stool, Adjustable</td>\n",
       "      <td>88215</td>\n",
       "      <td>5</td>\n",
       "      <td>0.0</td>\n",
       "      <td>11460</td>\n",
       "      <td>203.92</td>\n",
       "      <td>Critical</td>\n",
       "      <td>76755</td>\n",
       "      <td>2012</td>\n",
       "      <td>8</td>\n",
       "    </tr>\n",
       "  </tbody>\n",
       "</table>\n",
       "<p>5 rows × 28 columns</p>\n",
       "</div>"
      ],
      "text/plain": [
       "       Region_x                  Order.ID Returned Order.Date Ship.Date  \\\n",
       "0    Central US  CA-2012-SA20830140-41210      Yes   10/28/12  10/30/12   \n",
       "1  Eastern Asia  IN-2012-PB19210127-41259      Yes   12/16/12  12/19/12   \n",
       "2  Eastern Asia  IN-2012-PB19210127-41259      Yes   12/16/12  12/19/12   \n",
       "3  Eastern Asia  IN-2012-PB19210127-41259      Yes   12/16/12  12/19/12   \n",
       "4  Eastern Asia  IN-2012-PB19210127-41259      Yes   12/16/12  12/19/12   \n",
       "\n",
       "     Ship.Mode   Customer.ID   Customer.Name    Segment  Postal.Code  ...  \\\n",
       "0  First Class  SA-208301402    Sue Ann Reed   Consumer      60610.0  ...   \n",
       "1  First Class   PB-19210127  Phillip Breyer  Corporate          NaN  ...   \n",
       "2  First Class   PB-19210127  Phillip Breyer  Corporate          NaN  ...   \n",
       "3  First Class   PB-19210127  Phillip Breyer  Corporate          NaN  ...   \n",
       "4  First Class   PB-19210127  Phillip Breyer  Corporate          NaN  ...   \n",
       "\n",
       "                                  Product.Name   Sales Quantity Discount  \\\n",
       "0                              Apple iPhone 5S  273595        6      0.2   \n",
       "1  Lesro Conference Table, with Bottom Storage  171516        2      0.0   \n",
       "2                 Safco Classic Bookcase, Pine  219750        5      0.0   \n",
       "3       Lesro Round Table, with Bottom Storage  135603        3      0.0   \n",
       "4         Office Star Swivel Stool, Adjustable   88215        5      0.0   \n",
       "\n",
       "  Profit Shipping.Cost Order.Priority    Loss  Year  Counts  \n",
       "0  34199        752.51           High  239396  2012       2  \n",
       "1  72036        725.57       Critical   99480  2012       8  \n",
       "2  15375        627.27       Critical  204375  2012       8  \n",
       "3  31185        458.97       Critical  104418  2012       8  \n",
       "4  11460        203.92       Critical   76755  2012       8  \n",
       "\n",
       "[5 rows x 28 columns]"
      ]
     },
     "execution_count": 490,
     "metadata": {},
     "output_type": "execute_result"
    }
   ],
   "source": [
    "orders_merged['Counts'] = orders_merged.groupby(['Customer.ID'])['Returned'].transform('count')\n"
   ]
  },
  {
   "cell_type": "code",
   "execution_count": 521,
   "metadata": {},
   "outputs": [
    {
     "name": "stdout",
     "output_type": "stream",
     "text": [
      "70658\n"
     ]
    },
    {
     "data": {
      "text/plain": [
       "1     6068\n",
       "4     3758\n",
       "9     2550\n",
       "16    1663\n",
       "Name: Counts, dtype: int64"
      ]
     },
     "execution_count": 521,
     "metadata": {},
     "output_type": "execute_result"
    }
   ],
   "source": [
    "return_most = orders_merged[orders_merged.Counts < 5]\n",
    "\n",
    "return_most = pd.DataFrame(return_most.groupby([\"Customer.ID\"]).sum().sort_values(\"Counts\", ascending=True))\n",
    "print(return_most.Counts.sum())\n",
    "return_most.Counts.value_counts()\n"
   ]
  },
  {
   "cell_type": "markdown",
   "metadata": {},
   "source": [
    "## Answer:  \n",
    "\n",
    "There were a total of 14,039 returns in the dataset. 6,068 customers made only one return while 7,971 made more then one return. There were a total of 4,213 customers that made more then 5 returns."
   ]
  },
  {
   "cell_type": "markdown",
   "metadata": {},
   "source": [
    "### 3.3 Which regions are more likely to return orders?"
   ]
  },
  {
   "cell_type": "code",
   "execution_count": 648,
   "metadata": {},
   "outputs": [
    {
     "data": {
      "text/plain": [
       "Region_x            object\n",
       "Order.ID            object\n",
       "Returned          category\n",
       "Order.Date          object\n",
       "Ship.Date           object\n",
       "Ship.Mode           object\n",
       "Customer.ID         object\n",
       "Customer.Name       object\n",
       "Segment             object\n",
       "Postal.Code        float64\n",
       "City                object\n",
       "State               object\n",
       "Country             object\n",
       "Region_y            object\n",
       "Market              object\n",
       "Product.ID          object\n",
       "Category            object\n",
       "Sub.Category        object\n",
       "Product.Name        object\n",
       "Sales                int64\n",
       "Quantity             int64\n",
       "Discount           float64\n",
       "Profit               int64\n",
       "Shipping.Cost      float64\n",
       "Order.Priority      object\n",
       "Loss                 int64\n",
       "Year                 int64\n",
       "Counts               int64\n",
       "Prod.Counts          int64\n",
       "dtype: object"
      ]
     },
     "execution_count": 648,
     "metadata": {},
     "output_type": "execute_result"
    }
   ],
   "source": [
    "orders_merged.Region_x.unique()\n",
    "orders_merged.dtypes"
   ]
  },
  {
   "cell_type": "code",
   "execution_count": 660,
   "metadata": {},
   "outputs": [
    {
     "data": {
      "text/html": [
       "<div>\n",
       "<style scoped>\n",
       "    .dataframe tbody tr th:only-of-type {\n",
       "        vertical-align: middle;\n",
       "    }\n",
       "\n",
       "    .dataframe tbody tr th {\n",
       "        vertical-align: top;\n",
       "    }\n",
       "\n",
       "    .dataframe thead th {\n",
       "        text-align: right;\n",
       "    }\n",
       "</style>\n",
       "<table border=\"1\" class=\"dataframe\">\n",
       "  <thead>\n",
       "    <tr style=\"text-align: right;\">\n",
       "      <th></th>\n",
       "      <th>count</th>\n",
       "      <th>mean</th>\n",
       "      <th>std</th>\n",
       "      <th>min</th>\n",
       "      <th>25%</th>\n",
       "      <th>50%</th>\n",
       "      <th>75%</th>\n",
       "      <th>max</th>\n",
       "    </tr>\n",
       "    <tr>\n",
       "      <th>Region_x</th>\n",
       "      <th></th>\n",
       "      <th></th>\n",
       "      <th></th>\n",
       "      <th></th>\n",
       "      <th></th>\n",
       "      <th></th>\n",
       "      <th></th>\n",
       "      <th></th>\n",
       "    </tr>\n",
       "  </thead>\n",
       "  <tbody>\n",
       "    <tr>\n",
       "      <th>Caribbean</th>\n",
       "      <td>69.0</td>\n",
       "      <td>26.695652</td>\n",
       "      <td>12.216556</td>\n",
       "      <td>6.0</td>\n",
       "      <td>18.00</td>\n",
       "      <td>22.0</td>\n",
       "      <td>36.00</td>\n",
       "      <td>70.0</td>\n",
       "    </tr>\n",
       "    <tr>\n",
       "      <th>Central Africa</th>\n",
       "      <td>17.0</td>\n",
       "      <td>29.588235</td>\n",
       "      <td>11.800735</td>\n",
       "      <td>9.0</td>\n",
       "      <td>22.00</td>\n",
       "      <td>30.0</td>\n",
       "      <td>38.00</td>\n",
       "      <td>52.0</td>\n",
       "    </tr>\n",
       "    <tr>\n",
       "      <th>Central America</th>\n",
       "      <td>248.0</td>\n",
       "      <td>25.217742</td>\n",
       "      <td>12.085432</td>\n",
       "      <td>1.0</td>\n",
       "      <td>17.75</td>\n",
       "      <td>22.0</td>\n",
       "      <td>32.25</td>\n",
       "      <td>80.0</td>\n",
       "    </tr>\n",
       "    <tr>\n",
       "      <th>Central Asia</th>\n",
       "      <td>9.0</td>\n",
       "      <td>32.888889</td>\n",
       "      <td>10.227957</td>\n",
       "      <td>22.0</td>\n",
       "      <td>23.00</td>\n",
       "      <td>30.0</td>\n",
       "      <td>39.00</td>\n",
       "      <td>49.0</td>\n",
       "    </tr>\n",
       "    <tr>\n",
       "      <th>Central US</th>\n",
       "      <td>71.0</td>\n",
       "      <td>12.943662</td>\n",
       "      <td>36.805235</td>\n",
       "      <td>2.0</td>\n",
       "      <td>5.00</td>\n",
       "      <td>6.0</td>\n",
       "      <td>8.00</td>\n",
       "      <td>227.0</td>\n",
       "    </tr>\n",
       "    <tr>\n",
       "      <th>Eastern Africa</th>\n",
       "      <td>18.0</td>\n",
       "      <td>32.222222</td>\n",
       "      <td>20.440892</td>\n",
       "      <td>10.0</td>\n",
       "      <td>17.00</td>\n",
       "      <td>25.5</td>\n",
       "      <td>41.75</td>\n",
       "      <td>84.0</td>\n",
       "    </tr>\n",
       "    <tr>\n",
       "      <th>Eastern Asia</th>\n",
       "      <td>131.0</td>\n",
       "      <td>27.305344</td>\n",
       "      <td>14.362287</td>\n",
       "      <td>3.0</td>\n",
       "      <td>17.00</td>\n",
       "      <td>25.0</td>\n",
       "      <td>35.50</td>\n",
       "      <td>92.0</td>\n",
       "    </tr>\n",
       "    <tr>\n",
       "      <th>Eastern Canada</th>\n",
       "      <td>10.0</td>\n",
       "      <td>35.000000</td>\n",
       "      <td>19.419349</td>\n",
       "      <td>13.0</td>\n",
       "      <td>23.50</td>\n",
       "      <td>33.0</td>\n",
       "      <td>39.25</td>\n",
       "      <td>84.0</td>\n",
       "    </tr>\n",
       "    <tr>\n",
       "      <th>Eastern Europe</th>\n",
       "      <td>42.0</td>\n",
       "      <td>26.476190</td>\n",
       "      <td>10.169870</td>\n",
       "      <td>6.0</td>\n",
       "      <td>20.00</td>\n",
       "      <td>23.5</td>\n",
       "      <td>33.75</td>\n",
       "      <td>49.0</td>\n",
       "    </tr>\n",
       "    <tr>\n",
       "      <th>Eastern US</th>\n",
       "      <td>134.0</td>\n",
       "      <td>10.261194</td>\n",
       "      <td>26.935715</td>\n",
       "      <td>1.0</td>\n",
       "      <td>5.00</td>\n",
       "      <td>6.0</td>\n",
       "      <td>9.00</td>\n",
       "      <td>227.0</td>\n",
       "    </tr>\n",
       "    <tr>\n",
       "      <th>North Africa</th>\n",
       "      <td>51.0</td>\n",
       "      <td>30.980392</td>\n",
       "      <td>16.690704</td>\n",
       "      <td>8.0</td>\n",
       "      <td>19.50</td>\n",
       "      <td>25.0</td>\n",
       "      <td>38.00</td>\n",
       "      <td>92.0</td>\n",
       "    </tr>\n",
       "    <tr>\n",
       "      <th>Northern Europe</th>\n",
       "      <td>76.0</td>\n",
       "      <td>28.802632</td>\n",
       "      <td>14.471139</td>\n",
       "      <td>8.0</td>\n",
       "      <td>17.00</td>\n",
       "      <td>28.0</td>\n",
       "      <td>37.25</td>\n",
       "      <td>77.0</td>\n",
       "    </tr>\n",
       "    <tr>\n",
       "      <th>Oceania</th>\n",
       "      <td>154.0</td>\n",
       "      <td>24.993506</td>\n",
       "      <td>10.793060</td>\n",
       "      <td>6.0</td>\n",
       "      <td>18.00</td>\n",
       "      <td>22.0</td>\n",
       "      <td>33.00</td>\n",
       "      <td>77.0</td>\n",
       "    </tr>\n",
       "    <tr>\n",
       "      <th>South America</th>\n",
       "      <td>133.0</td>\n",
       "      <td>25.932331</td>\n",
       "      <td>12.388408</td>\n",
       "      <td>6.0</td>\n",
       "      <td>18.00</td>\n",
       "      <td>23.0</td>\n",
       "      <td>32.00</td>\n",
       "      <td>80.0</td>\n",
       "    </tr>\n",
       "    <tr>\n",
       "      <th>Southeastern Asia</th>\n",
       "      <td>140.0</td>\n",
       "      <td>24.671429</td>\n",
       "      <td>11.168070</td>\n",
       "      <td>6.0</td>\n",
       "      <td>16.00</td>\n",
       "      <td>22.0</td>\n",
       "      <td>32.00</td>\n",
       "      <td>80.0</td>\n",
       "    </tr>\n",
       "    <tr>\n",
       "      <th>Southern Africa</th>\n",
       "      <td>25.0</td>\n",
       "      <td>31.320000</td>\n",
       "      <td>21.025223</td>\n",
       "      <td>12.0</td>\n",
       "      <td>16.00</td>\n",
       "      <td>23.0</td>\n",
       "      <td>40.00</td>\n",
       "      <td>90.0</td>\n",
       "    </tr>\n",
       "    <tr>\n",
       "      <th>Southern Asia</th>\n",
       "      <td>111.0</td>\n",
       "      <td>25.333333</td>\n",
       "      <td>11.842399</td>\n",
       "      <td>7.0</td>\n",
       "      <td>17.00</td>\n",
       "      <td>22.0</td>\n",
       "      <td>33.00</td>\n",
       "      <td>83.0</td>\n",
       "    </tr>\n",
       "    <tr>\n",
       "      <th>Southern Europe</th>\n",
       "      <td>112.0</td>\n",
       "      <td>30.071429</td>\n",
       "      <td>13.585044</td>\n",
       "      <td>14.0</td>\n",
       "      <td>20.00</td>\n",
       "      <td>26.5</td>\n",
       "      <td>37.00</td>\n",
       "      <td>84.0</td>\n",
       "    </tr>\n",
       "    <tr>\n",
       "      <th>Southern US</th>\n",
       "      <td>83.0</td>\n",
       "      <td>14.361446</td>\n",
       "      <td>41.531821</td>\n",
       "      <td>2.0</td>\n",
       "      <td>4.00</td>\n",
       "      <td>6.0</td>\n",
       "      <td>8.00</td>\n",
       "      <td>227.0</td>\n",
       "    </tr>\n",
       "    <tr>\n",
       "      <th>Western Africa</th>\n",
       "      <td>60.0</td>\n",
       "      <td>28.733333</td>\n",
       "      <td>13.866026</td>\n",
       "      <td>8.0</td>\n",
       "      <td>19.00</td>\n",
       "      <td>24.5</td>\n",
       "      <td>37.00</td>\n",
       "      <td>83.0</td>\n",
       "    </tr>\n",
       "    <tr>\n",
       "      <th>Western Asia</th>\n",
       "      <td>108.0</td>\n",
       "      <td>26.564815</td>\n",
       "      <td>11.961991</td>\n",
       "      <td>4.0</td>\n",
       "      <td>18.00</td>\n",
       "      <td>23.5</td>\n",
       "      <td>35.25</td>\n",
       "      <td>77.0</td>\n",
       "    </tr>\n",
       "    <tr>\n",
       "      <th>Western Canada</th>\n",
       "      <td>5.0</td>\n",
       "      <td>24.800000</td>\n",
       "      <td>10.592450</td>\n",
       "      <td>15.0</td>\n",
       "      <td>17.00</td>\n",
       "      <td>20.0</td>\n",
       "      <td>33.00</td>\n",
       "      <td>39.0</td>\n",
       "    </tr>\n",
       "    <tr>\n",
       "      <th>Western Europe</th>\n",
       "      <td>233.0</td>\n",
       "      <td>29.931330</td>\n",
       "      <td>13.524706</td>\n",
       "      <td>5.0</td>\n",
       "      <td>20.00</td>\n",
       "      <td>29.0</td>\n",
       "      <td>38.00</td>\n",
       "      <td>92.0</td>\n",
       "    </tr>\n",
       "    <tr>\n",
       "      <th>Western US</th>\n",
       "      <td>180.0</td>\n",
       "      <td>12.422222</td>\n",
       "      <td>36.445100</td>\n",
       "      <td>1.0</td>\n",
       "      <td>5.00</td>\n",
       "      <td>6.0</td>\n",
       "      <td>8.00</td>\n",
       "      <td>227.0</td>\n",
       "    </tr>\n",
       "  </tbody>\n",
       "</table>\n",
       "</div>"
      ],
      "text/plain": [
       "                   count       mean        std   min    25%   50%    75%  \\\n",
       "Region_x                                                                   \n",
       "Caribbean           69.0  26.695652  12.216556   6.0  18.00  22.0  36.00   \n",
       "Central Africa      17.0  29.588235  11.800735   9.0  22.00  30.0  38.00   \n",
       "Central America    248.0  25.217742  12.085432   1.0  17.75  22.0  32.25   \n",
       "Central Asia         9.0  32.888889  10.227957  22.0  23.00  30.0  39.00   \n",
       "Central US          71.0  12.943662  36.805235   2.0   5.00   6.0   8.00   \n",
       "Eastern Africa      18.0  32.222222  20.440892  10.0  17.00  25.5  41.75   \n",
       "Eastern Asia       131.0  27.305344  14.362287   3.0  17.00  25.0  35.50   \n",
       "Eastern Canada      10.0  35.000000  19.419349  13.0  23.50  33.0  39.25   \n",
       "Eastern Europe      42.0  26.476190  10.169870   6.0  20.00  23.5  33.75   \n",
       "Eastern US         134.0  10.261194  26.935715   1.0   5.00   6.0   9.00   \n",
       "North Africa        51.0  30.980392  16.690704   8.0  19.50  25.0  38.00   \n",
       "Northern Europe     76.0  28.802632  14.471139   8.0  17.00  28.0  37.25   \n",
       "Oceania            154.0  24.993506  10.793060   6.0  18.00  22.0  33.00   \n",
       "South America      133.0  25.932331  12.388408   6.0  18.00  23.0  32.00   \n",
       "Southeastern Asia  140.0  24.671429  11.168070   6.0  16.00  22.0  32.00   \n",
       "Southern Africa     25.0  31.320000  21.025223  12.0  16.00  23.0  40.00   \n",
       "Southern Asia      111.0  25.333333  11.842399   7.0  17.00  22.0  33.00   \n",
       "Southern Europe    112.0  30.071429  13.585044  14.0  20.00  26.5  37.00   \n",
       "Southern US         83.0  14.361446  41.531821   2.0   4.00   6.0   8.00   \n",
       "Western Africa      60.0  28.733333  13.866026   8.0  19.00  24.5  37.00   \n",
       "Western Asia       108.0  26.564815  11.961991   4.0  18.00  23.5  35.25   \n",
       "Western Canada       5.0  24.800000  10.592450  15.0  17.00  20.0  33.00   \n",
       "Western Europe     233.0  29.931330  13.524706   5.0  20.00  29.0  38.00   \n",
       "Western US         180.0  12.422222  36.445100   1.0   5.00   6.0   8.00   \n",
       "\n",
       "                     max  \n",
       "Region_x                  \n",
       "Caribbean           70.0  \n",
       "Central Africa      52.0  \n",
       "Central America     80.0  \n",
       "Central Asia        49.0  \n",
       "Central US         227.0  \n",
       "Eastern Africa      84.0  \n",
       "Eastern Asia        92.0  \n",
       "Eastern Canada      84.0  \n",
       "Eastern Europe      49.0  \n",
       "Eastern US         227.0  \n",
       "North Africa        92.0  \n",
       "Northern Europe     77.0  \n",
       "Oceania             77.0  \n",
       "South America       80.0  \n",
       "Southeastern Asia   80.0  \n",
       "Southern Africa     90.0  \n",
       "Southern Asia       83.0  \n",
       "Southern Europe     84.0  \n",
       "Southern US        227.0  \n",
       "Western Africa      83.0  \n",
       "Western Asia        77.0  \n",
       "Western Canada      39.0  \n",
       "Western Europe      92.0  \n",
       "Western US         227.0  "
      ]
     },
     "execution_count": 660,
     "metadata": {},
     "output_type": "execute_result"
    }
   ],
   "source": [
    "orders_merged['Region_x'].astype('category')\n",
    "\n",
    "regions = orders_merged.groupby(\"Region_x\")['Counts'].describe()\n",
    "\n",
    "regions"
   ]
  },
  {
   "cell_type": "markdown",
   "metadata": {},
   "source": [
    "## Answer:\n",
    "There are differences between region and return counts, with Central America returning the most"
   ]
  },
  {
   "cell_type": "markdown",
   "metadata": {},
   "source": [
    "## 3.4 Which Sub categories more likely to be returned"
   ]
  },
  {
   "cell_type": "code",
   "execution_count": 663,
   "metadata": {},
   "outputs": [
    {
     "data": {
      "text/html": [
       "<div>\n",
       "<style scoped>\n",
       "    .dataframe tbody tr th:only-of-type {\n",
       "        vertical-align: middle;\n",
       "    }\n",
       "\n",
       "    .dataframe tbody tr th {\n",
       "        vertical-align: top;\n",
       "    }\n",
       "\n",
       "    .dataframe thead th {\n",
       "        text-align: right;\n",
       "    }\n",
       "</style>\n",
       "<table border=\"1\" class=\"dataframe\">\n",
       "  <thead>\n",
       "    <tr style=\"text-align: right;\">\n",
       "      <th></th>\n",
       "      <th>count</th>\n",
       "      <th>mean</th>\n",
       "      <th>std</th>\n",
       "      <th>min</th>\n",
       "      <th>25%</th>\n",
       "      <th>50%</th>\n",
       "      <th>75%</th>\n",
       "      <th>max</th>\n",
       "    </tr>\n",
       "    <tr>\n",
       "      <th>Sub.Category</th>\n",
       "      <th></th>\n",
       "      <th></th>\n",
       "      <th></th>\n",
       "      <th></th>\n",
       "      <th></th>\n",
       "      <th></th>\n",
       "      <th></th>\n",
       "      <th></th>\n",
       "    </tr>\n",
       "  </thead>\n",
       "  <tbody>\n",
       "    <tr>\n",
       "      <th>Accessories</th>\n",
       "      <td>3074.0</td>\n",
       "      <td>17.524398</td>\n",
       "      <td>8.363890</td>\n",
       "      <td>1.0</td>\n",
       "      <td>12.0</td>\n",
       "      <td>18.0</td>\n",
       "      <td>22.0</td>\n",
       "      <td>40.0</td>\n",
       "    </tr>\n",
       "    <tr>\n",
       "      <th>Appliances</th>\n",
       "      <td>1741.0</td>\n",
       "      <td>10.361287</td>\n",
       "      <td>4.002998</td>\n",
       "      <td>1.0</td>\n",
       "      <td>7.0</td>\n",
       "      <td>10.0</td>\n",
       "      <td>13.0</td>\n",
       "      <td>20.0</td>\n",
       "    </tr>\n",
       "    <tr>\n",
       "      <th>Art</th>\n",
       "      <td>4864.0</td>\n",
       "      <td>32.388569</td>\n",
       "      <td>15.058824</td>\n",
       "      <td>1.0</td>\n",
       "      <td>28.0</td>\n",
       "      <td>34.0</td>\n",
       "      <td>39.0</td>\n",
       "      <td>80.0</td>\n",
       "    </tr>\n",
       "    <tr>\n",
       "      <th>Binders</th>\n",
       "      <td>6145.0</td>\n",
       "      <td>33.888853</td>\n",
       "      <td>18.178195</td>\n",
       "      <td>2.0</td>\n",
       "      <td>22.0</td>\n",
       "      <td>36.0</td>\n",
       "      <td>43.0</td>\n",
       "      <td>92.0</td>\n",
       "    </tr>\n",
       "    <tr>\n",
       "      <th>Bookcases</th>\n",
       "      <td>2411.0</td>\n",
       "      <td>19.007466</td>\n",
       "      <td>7.467103</td>\n",
       "      <td>1.0</td>\n",
       "      <td>15.0</td>\n",
       "      <td>19.0</td>\n",
       "      <td>22.0</td>\n",
       "      <td>44.0</td>\n",
       "    </tr>\n",
       "    <tr>\n",
       "      <th>Chairs</th>\n",
       "      <td>3431.0</td>\n",
       "      <td>22.727193</td>\n",
       "      <td>9.425922</td>\n",
       "      <td>1.0</td>\n",
       "      <td>18.0</td>\n",
       "      <td>23.0</td>\n",
       "      <td>28.0</td>\n",
       "      <td>48.0</td>\n",
       "    </tr>\n",
       "    <tr>\n",
       "      <th>Copiers</th>\n",
       "      <td>2218.0</td>\n",
       "      <td>19.773670</td>\n",
       "      <td>7.016071</td>\n",
       "      <td>2.0</td>\n",
       "      <td>16.0</td>\n",
       "      <td>19.0</td>\n",
       "      <td>22.0</td>\n",
       "      <td>45.0</td>\n",
       "    </tr>\n",
       "    <tr>\n",
       "      <th>Envelopes</th>\n",
       "      <td>2387.0</td>\n",
       "      <td>18.889401</td>\n",
       "      <td>6.863133</td>\n",
       "      <td>1.0</td>\n",
       "      <td>15.0</td>\n",
       "      <td>18.0</td>\n",
       "      <td>22.0</td>\n",
       "      <td>45.0</td>\n",
       "    </tr>\n",
       "    <tr>\n",
       "      <th>Fasteners</th>\n",
       "      <td>2601.0</td>\n",
       "      <td>44.816225</td>\n",
       "      <td>57.943215</td>\n",
       "      <td>1.0</td>\n",
       "      <td>17.0</td>\n",
       "      <td>25.0</td>\n",
       "      <td>42.0</td>\n",
       "      <td>227.0</td>\n",
       "    </tr>\n",
       "    <tr>\n",
       "      <th>Furnishings</th>\n",
       "      <td>3154.0</td>\n",
       "      <td>16.211160</td>\n",
       "      <td>8.426044</td>\n",
       "      <td>1.0</td>\n",
       "      <td>8.0</td>\n",
       "      <td>17.0</td>\n",
       "      <td>22.0</td>\n",
       "      <td>41.0</td>\n",
       "    </tr>\n",
       "    <tr>\n",
       "      <th>Labels</th>\n",
       "      <td>2601.0</td>\n",
       "      <td>18.933103</td>\n",
       "      <td>7.979020</td>\n",
       "      <td>1.0</td>\n",
       "      <td>15.0</td>\n",
       "      <td>19.0</td>\n",
       "      <td>22.0</td>\n",
       "      <td>44.0</td>\n",
       "    </tr>\n",
       "    <tr>\n",
       "      <th>Machines</th>\n",
       "      <td>1479.0</td>\n",
       "      <td>12.365788</td>\n",
       "      <td>4.926875</td>\n",
       "      <td>1.0</td>\n",
       "      <td>10.0</td>\n",
       "      <td>12.0</td>\n",
       "      <td>15.0</td>\n",
       "      <td>26.0</td>\n",
       "    </tr>\n",
       "    <tr>\n",
       "      <th>Paper</th>\n",
       "      <td>3492.0</td>\n",
       "      <td>14.868270</td>\n",
       "      <td>8.872621</td>\n",
       "      <td>1.0</td>\n",
       "      <td>7.0</td>\n",
       "      <td>15.0</td>\n",
       "      <td>21.0</td>\n",
       "      <td>43.0</td>\n",
       "    </tr>\n",
       "    <tr>\n",
       "      <th>Phones</th>\n",
       "      <td>3352.0</td>\n",
       "      <td>18.400955</td>\n",
       "      <td>9.842525</td>\n",
       "      <td>1.0</td>\n",
       "      <td>10.0</td>\n",
       "      <td>20.0</td>\n",
       "      <td>24.0</td>\n",
       "      <td>49.0</td>\n",
       "    </tr>\n",
       "    <tr>\n",
       "      <th>Storage</th>\n",
       "      <td>5049.0</td>\n",
       "      <td>33.893642</td>\n",
       "      <td>16.992505</td>\n",
       "      <td>1.0</td>\n",
       "      <td>29.0</td>\n",
       "      <td>35.0</td>\n",
       "      <td>40.0</td>\n",
       "      <td>90.0</td>\n",
       "    </tr>\n",
       "    <tr>\n",
       "      <th>Supplies</th>\n",
       "      <td>2405.0</td>\n",
       "      <td>19.817464</td>\n",
       "      <td>6.952264</td>\n",
       "      <td>2.0</td>\n",
       "      <td>16.0</td>\n",
       "      <td>20.0</td>\n",
       "      <td>23.0</td>\n",
       "      <td>37.0</td>\n",
       "    </tr>\n",
       "    <tr>\n",
       "      <th>Tables</th>\n",
       "      <td>859.0</td>\n",
       "      <td>6.341094</td>\n",
       "      <td>3.064014</td>\n",
       "      <td>1.0</td>\n",
       "      <td>4.0</td>\n",
       "      <td>6.0</td>\n",
       "      <td>8.0</td>\n",
       "      <td>18.0</td>\n",
       "    </tr>\n",
       "  </tbody>\n",
       "</table>\n",
       "</div>"
      ],
      "text/plain": [
       "               count       mean        std  min   25%   50%   75%    max\n",
       "Sub.Category                                                            \n",
       "Accessories   3074.0  17.524398   8.363890  1.0  12.0  18.0  22.0   40.0\n",
       "Appliances    1741.0  10.361287   4.002998  1.0   7.0  10.0  13.0   20.0\n",
       "Art           4864.0  32.388569  15.058824  1.0  28.0  34.0  39.0   80.0\n",
       "Binders       6145.0  33.888853  18.178195  2.0  22.0  36.0  43.0   92.0\n",
       "Bookcases     2411.0  19.007466   7.467103  1.0  15.0  19.0  22.0   44.0\n",
       "Chairs        3431.0  22.727193   9.425922  1.0  18.0  23.0  28.0   48.0\n",
       "Copiers       2218.0  19.773670   7.016071  2.0  16.0  19.0  22.0   45.0\n",
       "Envelopes     2387.0  18.889401   6.863133  1.0  15.0  18.0  22.0   45.0\n",
       "Fasteners     2601.0  44.816225  57.943215  1.0  17.0  25.0  42.0  227.0\n",
       "Furnishings   3154.0  16.211160   8.426044  1.0   8.0  17.0  22.0   41.0\n",
       "Labels        2601.0  18.933103   7.979020  1.0  15.0  19.0  22.0   44.0\n",
       "Machines      1479.0  12.365788   4.926875  1.0  10.0  12.0  15.0   26.0\n",
       "Paper         3492.0  14.868270   8.872621  1.0   7.0  15.0  21.0   43.0\n",
       "Phones        3352.0  18.400955   9.842525  1.0  10.0  20.0  24.0   49.0\n",
       "Storage       5049.0  33.893642  16.992505  1.0  29.0  35.0  40.0   90.0\n",
       "Supplies      2405.0  19.817464   6.952264  2.0  16.0  20.0  23.0   37.0\n",
       "Tables         859.0   6.341094   3.064014  1.0   4.0   6.0   8.0   18.0"
      ]
     },
     "execution_count": 663,
     "metadata": {},
     "output_type": "execute_result"
    }
   ],
   "source": [
    "sub = orders_merged.groupby(\"Sub.Category\")['Counts'].describe()\n",
    "\n",
    "sub"
   ]
  },
  {
   "cell_type": "markdown",
   "metadata": {},
   "source": [
    "## Answer:\n",
    "\n",
    "There is a difference in Sub Category and Return Counts, with Binders being returned the most"
   ]
  },
  {
   "cell_type": "markdown",
   "metadata": {},
   "source": [
    "# Part II"
   ]
  },
  {
   "cell_type": "markdown",
   "metadata": {},
   "source": [
    "### Problem 4: Feature Engineering\n",
    "#### Step 1: Create the dependent variable\n",
    "- First of all, we need to generate a categorical variable which indicates whether an order has been returned or not.\n",
    "- ***Hint:*** the returned orders’ IDs are contained in the dataset “returns”"
   ]
  },
  {
   "cell_type": "code",
   "execution_count": 588,
   "metadata": {
    "scrolled": true
   },
   "outputs": [
    {
     "data": {
      "text/plain": [
       "No     49043\n",
       "Yes     2220\n",
       "Name: Returned, dtype: int64"
      ]
     },
     "execution_count": 588,
     "metadata": {},
     "output_type": "execute_result"
    }
   ],
   "source": [
    "orders_merged.head()\n",
    "orders_merged.Returned.value_counts()"
   ]
  },
  {
   "cell_type": "markdown",
   "metadata": {},
   "source": [
    "This set was done in the previous set of problems"
   ]
  },
  {
   "cell_type": "markdown",
   "metadata": {},
   "source": [
    "#### Step 2:\n",
    "\n",
    "- If a product has been returned before, it may be returned again. \n",
    "- Let us generate a feature indictes how many times the product has been returned before.\n",
    "- If it never got returned, we just impute using 0.\n",
    "- ***Hint:*** Group by different Product.ID"
   ]
  },
  {
   "cell_type": "code",
   "execution_count": 598,
   "metadata": {},
   "outputs": [
    {
     "data": {
      "text/plain": [
       "Index(['Region_x', 'Order.ID', 'Returned', 'Order.Date', 'Ship.Date',\n",
       "       'Ship.Mode', 'Customer.ID', 'Customer.Name', 'Segment', 'Postal.Code',\n",
       "       'City', 'State', 'Country', 'Region_y', 'Market', 'Product.ID',\n",
       "       'Category', 'Sub.Category', 'Product.Name', 'Sales', 'Quantity',\n",
       "       'Discount', 'Profit', 'Shipping.Cost', 'Order.Priority', 'Loss', 'Year',\n",
       "       'Counts', 'Prod.Counts'],\n",
       "      dtype='object')"
      ]
     },
     "execution_count": 598,
     "metadata": {},
     "output_type": "execute_result"
    }
   ],
   "source": [
    "orders_merged['Prod.Counts'] = orders_merged.groupby(['Product.ID'])['Returned'].transform('count')\n",
    "orders_merged.columns"
   ]
  },
  {
   "cell_type": "markdown",
   "metadata": {},
   "source": [
    "### Problem 5: Fitting Models\n",
    "\n",
    "- You can use any binary classification method you have learned so far.\n",
    "- Use 80/20 training and test splits to build your model. \n",
    "- Double check the column types before you fit the model.\n",
    "- Only include useful features. i.e all the `ID`s should be excluded from your training set.\n",
    "- Note that there are only less than 5% of the orders have been returned, so you should consider using the [createDataPartition](https://www.rdocumentation.org/packages/caret/versions/6.0-80/topics/createDataPartition) function from `caret` package and [StratifiedKfold](http://scikit-learn.org/stable/modules/generated/sklearn.model_selection.StratifiedKFold.html#sklearn-model-selection-stratifiedkfold) from sklearn when running cross-validation.\n",
    "- Do forget to `set.seed()` before the spilt to make your result reproducible.\n",
    "- **Note:** We are not looking for the best tuned model in the lab so don't spend too much time on grid search. Focus on model evaluation and the business use case of each model.\n"
   ]
  },
  {
   "cell_type": "code",
   "execution_count": 618,
   "metadata": {},
   "outputs": [],
   "source": [
    "from sklearn.model_selection import train_test_split \n",
    "from sklearn import linear_model\n",
    "from sklearn import preprocessing\n",
    "from sklearn.model_selection import StratifiedKFold\n",
    "logit_1 = linear_model.LogisticRegression(C=1e4)\n",
    "np.random.seed(1)\n",
    "\n",
    "\n",
    "X = orders_merged.drop(['Returned','Order.ID', 'Customer.ID', 'Product.ID'], axis=1)\n",
    "y = orders_merged['Returned']\n",
    "\n",
    "\n",
    "    "
   ]
  },
  {
   "cell_type": "code",
   "execution_count": 627,
   "metadata": {},
   "outputs": [
    {
     "name": "stdout",
     "output_type": "stream",
     "text": [
      "StratifiedKFold(n_splits=2, random_state=None, shuffle=False)\n",
      "TRAIN: [ 1110  1111  1112 ... 51260 51261 51262] TEST: [    0     1     2 ... 26739 26740 26741]\n",
      "TRAIN: [    0     1     2 ... 26739 26740 26741] TEST: [ 1110  1111  1112 ... 51260 51261 51262]\n"
     ]
    }
   ],
   "source": [
    "skf = StratifiedKFold(n_splits=2)\n",
    "skf.get_n_splits(X, y)\n",
    "\n",
    "print(skf)  \n",
    "StratifiedKFold(n_splits=2, random_state=None, shuffle=False)\n",
    "for train_index, test_index in skf.split(X, y):\n",
    "    print(\"TRAIN:\", train_index, \"TEST:\", test_index)\n",
    "    \n"
   ]
  },
  {
   "cell_type": "markdown",
   "metadata": {},
   "source": [
    "## Logistic Regression"
   ]
  },
  {
   "cell_type": "code",
   "execution_count": 672,
   "metadata": {},
   "outputs": [
    {
     "name": "stdout",
     "output_type": "stream",
     "text": [
      "Score: 0.9561570348695441\n",
      "[[ 9.67742356e-07 -1.07970263e-06 -1.52089437e-03 -2.12657871e-08\n",
      "  -9.65442286e-08 -1.29729305e-07 -4.69549302e-09 -2.28643083e-08\n",
      "   5.83223364e-10 -5.03237016e-08 -7.18159173e-08 -5.42949095e-08\n",
      "  -4.96330827e-08 -1.02662179e-08 -7.16251320e-08 -1.51131949e-08\n",
      "  -7.24777044e-08 -4.76282707e-08  1.44431903e-09]]\n",
      "[-7.55235626e-07]\n"
     ]
    },
    {
     "name": "stderr",
     "output_type": "stream",
     "text": [
      "/Users/lauraelliott/anaconda3/lib/python3.7/site-packages/sklearn/linear_model/logistic.py:433: FutureWarning: Default solver will be changed to 'lbfgs' in 0.22. Specify a solver to silence this warning.\n",
      "  FutureWarning)\n"
     ]
    }
   ],
   "source": [
    "logit_1.fit(X_train, y_train)\n",
    "print('Score:' ,logit_1.score(X_train, y_train))\n",
    "\n",
    "# Coefficients \n",
    "print(logit_1.coef_)\n",
    "\n",
    "## Intercept\n",
    "print(logit_1.intercept_)"
   ]
  },
  {
   "cell_type": "code",
   "execution_count": 671,
   "metadata": {},
   "outputs": [
    {
     "name": "stderr",
     "output_type": "stream",
     "text": [
      "/Users/lauraelliott/anaconda3/lib/python3.7/site-packages/numpy/core/fromnumeric.py:2389: FutureWarning: Method .ptp is deprecated and will be removed in a future version. Use numpy.ptp instead.\n",
      "  return ptp(axis=axis, out=out, **kwargs)\n"
     ]
    },
    {
     "ename": "ValueError",
     "evalue": "Pandas data cast to numpy dtype of object. Check input data with np.asarray(data).",
     "output_type": "error",
     "traceback": [
      "\u001b[0;31m---------------------------------------------------------------------------\u001b[0m",
      "\u001b[0;31mValueError\u001b[0m                                Traceback (most recent call last)",
      "\u001b[0;32m<ipython-input-671-70a7537366bd>\u001b[0m in \u001b[0;36m<module>\u001b[0;34m\u001b[0m\n\u001b[1;32m      3\u001b[0m \u001b[0;34m\u001b[0m\u001b[0m\n\u001b[1;32m      4\u001b[0m \u001b[0mX_add_const\u001b[0m \u001b[0;34m=\u001b[0m \u001b[0msm\u001b[0m\u001b[0;34m.\u001b[0m\u001b[0madd_constant\u001b[0m\u001b[0;34m(\u001b[0m\u001b[0mX_train\u001b[0m\u001b[0;34m)\u001b[0m\u001b[0;34m\u001b[0m\u001b[0;34m\u001b[0m\u001b[0m\n\u001b[0;32m----> 5\u001b[0;31m \u001b[0mlogit\u001b[0m \u001b[0;34m=\u001b[0m \u001b[0msm\u001b[0m\u001b[0;34m.\u001b[0m\u001b[0mLogit\u001b[0m\u001b[0;34m(\u001b[0m\u001b[0my_train\u001b[0m\u001b[0;34m,\u001b[0m \u001b[0mX_add_const\u001b[0m\u001b[0;34m)\u001b[0m\u001b[0;34m\u001b[0m\u001b[0;34m\u001b[0m\u001b[0m\n\u001b[0m\u001b[1;32m      6\u001b[0m \u001b[0mans\u001b[0m \u001b[0;34m=\u001b[0m \u001b[0mlogit\u001b[0m\u001b[0;34m.\u001b[0m\u001b[0mfit\u001b[0m\u001b[0;34m(\u001b[0m\u001b[0;34m)\u001b[0m\u001b[0;34m\u001b[0m\u001b[0;34m\u001b[0m\u001b[0m\n\u001b[1;32m      7\u001b[0m \u001b[0mprint\u001b[0m\u001b[0;34m(\u001b[0m\u001b[0mans\u001b[0m\u001b[0;34m.\u001b[0m\u001b[0msummary\u001b[0m\u001b[0;34m(\u001b[0m\u001b[0;34m)\u001b[0m\u001b[0;34m)\u001b[0m\u001b[0;34m\u001b[0m\u001b[0;34m\u001b[0m\u001b[0m\n",
      "\u001b[0;32m~/anaconda3/lib/python3.7/site-packages/statsmodels/discrete/discrete_model.py\u001b[0m in \u001b[0;36m__init__\u001b[0;34m(self, endog, exog, **kwargs)\u001b[0m\n\u001b[1;32m    416\u001b[0m \u001b[0;34m\u001b[0m\u001b[0m\n\u001b[1;32m    417\u001b[0m     \u001b[0;32mdef\u001b[0m \u001b[0m__init__\u001b[0m\u001b[0;34m(\u001b[0m\u001b[0mself\u001b[0m\u001b[0;34m,\u001b[0m \u001b[0mendog\u001b[0m\u001b[0;34m,\u001b[0m \u001b[0mexog\u001b[0m\u001b[0;34m,\u001b[0m \u001b[0;34m**\u001b[0m\u001b[0mkwargs\u001b[0m\u001b[0;34m)\u001b[0m\u001b[0;34m:\u001b[0m\u001b[0;34m\u001b[0m\u001b[0;34m\u001b[0m\u001b[0m\n\u001b[0;32m--> 418\u001b[0;31m         \u001b[0msuper\u001b[0m\u001b[0;34m(\u001b[0m\u001b[0mBinaryModel\u001b[0m\u001b[0;34m,\u001b[0m \u001b[0mself\u001b[0m\u001b[0;34m)\u001b[0m\u001b[0;34m.\u001b[0m\u001b[0m__init__\u001b[0m\u001b[0;34m(\u001b[0m\u001b[0mendog\u001b[0m\u001b[0;34m,\u001b[0m \u001b[0mexog\u001b[0m\u001b[0;34m,\u001b[0m \u001b[0;34m**\u001b[0m\u001b[0mkwargs\u001b[0m\u001b[0;34m)\u001b[0m\u001b[0;34m\u001b[0m\u001b[0;34m\u001b[0m\u001b[0m\n\u001b[0m\u001b[1;32m    419\u001b[0m         if (not issubclass(self.__class__, MultinomialModel) and\n\u001b[1;32m    420\u001b[0m                 not np.all((self.endog >= 0) & (self.endog <= 1))):\n",
      "\u001b[0;32m~/anaconda3/lib/python3.7/site-packages/statsmodels/discrete/discrete_model.py\u001b[0m in \u001b[0;36m__init__\u001b[0;34m(self, endog, exog, **kwargs)\u001b[0m\n\u001b[1;32m    169\u001b[0m     \"\"\"\n\u001b[1;32m    170\u001b[0m     \u001b[0;32mdef\u001b[0m \u001b[0m__init__\u001b[0m\u001b[0;34m(\u001b[0m\u001b[0mself\u001b[0m\u001b[0;34m,\u001b[0m \u001b[0mendog\u001b[0m\u001b[0;34m,\u001b[0m \u001b[0mexog\u001b[0m\u001b[0;34m,\u001b[0m \u001b[0;34m**\u001b[0m\u001b[0mkwargs\u001b[0m\u001b[0;34m)\u001b[0m\u001b[0;34m:\u001b[0m\u001b[0;34m\u001b[0m\u001b[0;34m\u001b[0m\u001b[0m\n\u001b[0;32m--> 171\u001b[0;31m         \u001b[0msuper\u001b[0m\u001b[0;34m(\u001b[0m\u001b[0mDiscreteModel\u001b[0m\u001b[0;34m,\u001b[0m \u001b[0mself\u001b[0m\u001b[0;34m)\u001b[0m\u001b[0;34m.\u001b[0m\u001b[0m__init__\u001b[0m\u001b[0;34m(\u001b[0m\u001b[0mendog\u001b[0m\u001b[0;34m,\u001b[0m \u001b[0mexog\u001b[0m\u001b[0;34m,\u001b[0m \u001b[0;34m**\u001b[0m\u001b[0mkwargs\u001b[0m\u001b[0;34m)\u001b[0m\u001b[0;34m\u001b[0m\u001b[0;34m\u001b[0m\u001b[0m\n\u001b[0m\u001b[1;32m    172\u001b[0m         \u001b[0mself\u001b[0m\u001b[0;34m.\u001b[0m\u001b[0mraise_on_perfect_prediction\u001b[0m \u001b[0;34m=\u001b[0m \u001b[0;32mTrue\u001b[0m\u001b[0;34m\u001b[0m\u001b[0;34m\u001b[0m\u001b[0m\n\u001b[1;32m    173\u001b[0m \u001b[0;34m\u001b[0m\u001b[0m\n",
      "\u001b[0;32m~/anaconda3/lib/python3.7/site-packages/statsmodels/base/model.py\u001b[0m in \u001b[0;36m__init__\u001b[0;34m(self, endog, exog, **kwargs)\u001b[0m\n\u001b[1;32m    210\u001b[0m \u001b[0;34m\u001b[0m\u001b[0m\n\u001b[1;32m    211\u001b[0m     \u001b[0;32mdef\u001b[0m \u001b[0m__init__\u001b[0m\u001b[0;34m(\u001b[0m\u001b[0mself\u001b[0m\u001b[0;34m,\u001b[0m \u001b[0mendog\u001b[0m\u001b[0;34m,\u001b[0m \u001b[0mexog\u001b[0m\u001b[0;34m=\u001b[0m\u001b[0;32mNone\u001b[0m\u001b[0;34m,\u001b[0m \u001b[0;34m**\u001b[0m\u001b[0mkwargs\u001b[0m\u001b[0;34m)\u001b[0m\u001b[0;34m:\u001b[0m\u001b[0;34m\u001b[0m\u001b[0;34m\u001b[0m\u001b[0m\n\u001b[0;32m--> 212\u001b[0;31m         \u001b[0msuper\u001b[0m\u001b[0;34m(\u001b[0m\u001b[0mLikelihoodModel\u001b[0m\u001b[0;34m,\u001b[0m \u001b[0mself\u001b[0m\u001b[0;34m)\u001b[0m\u001b[0;34m.\u001b[0m\u001b[0m__init__\u001b[0m\u001b[0;34m(\u001b[0m\u001b[0mendog\u001b[0m\u001b[0;34m,\u001b[0m \u001b[0mexog\u001b[0m\u001b[0;34m,\u001b[0m \u001b[0;34m**\u001b[0m\u001b[0mkwargs\u001b[0m\u001b[0;34m)\u001b[0m\u001b[0;34m\u001b[0m\u001b[0;34m\u001b[0m\u001b[0m\n\u001b[0m\u001b[1;32m    213\u001b[0m         \u001b[0mself\u001b[0m\u001b[0;34m.\u001b[0m\u001b[0minitialize\u001b[0m\u001b[0;34m(\u001b[0m\u001b[0;34m)\u001b[0m\u001b[0;34m\u001b[0m\u001b[0;34m\u001b[0m\u001b[0m\n\u001b[1;32m    214\u001b[0m \u001b[0;34m\u001b[0m\u001b[0m\n",
      "\u001b[0;32m~/anaconda3/lib/python3.7/site-packages/statsmodels/base/model.py\u001b[0m in \u001b[0;36m__init__\u001b[0;34m(self, endog, exog, **kwargs)\u001b[0m\n\u001b[1;32m     62\u001b[0m         \u001b[0mhasconst\u001b[0m \u001b[0;34m=\u001b[0m \u001b[0mkwargs\u001b[0m\u001b[0;34m.\u001b[0m\u001b[0mpop\u001b[0m\u001b[0;34m(\u001b[0m\u001b[0;34m'hasconst'\u001b[0m\u001b[0;34m,\u001b[0m \u001b[0;32mNone\u001b[0m\u001b[0;34m)\u001b[0m\u001b[0;34m\u001b[0m\u001b[0;34m\u001b[0m\u001b[0m\n\u001b[1;32m     63\u001b[0m         self.data = self._handle_data(endog, exog, missing, hasconst,\n\u001b[0;32m---> 64\u001b[0;31m                                       **kwargs)\n\u001b[0m\u001b[1;32m     65\u001b[0m         \u001b[0mself\u001b[0m\u001b[0;34m.\u001b[0m\u001b[0mk_constant\u001b[0m \u001b[0;34m=\u001b[0m \u001b[0mself\u001b[0m\u001b[0;34m.\u001b[0m\u001b[0mdata\u001b[0m\u001b[0;34m.\u001b[0m\u001b[0mk_constant\u001b[0m\u001b[0;34m\u001b[0m\u001b[0;34m\u001b[0m\u001b[0m\n\u001b[1;32m     66\u001b[0m         \u001b[0mself\u001b[0m\u001b[0;34m.\u001b[0m\u001b[0mexog\u001b[0m \u001b[0;34m=\u001b[0m \u001b[0mself\u001b[0m\u001b[0;34m.\u001b[0m\u001b[0mdata\u001b[0m\u001b[0;34m.\u001b[0m\u001b[0mexog\u001b[0m\u001b[0;34m\u001b[0m\u001b[0;34m\u001b[0m\u001b[0m\n",
      "\u001b[0;32m~/anaconda3/lib/python3.7/site-packages/statsmodels/base/model.py\u001b[0m in \u001b[0;36m_handle_data\u001b[0;34m(self, endog, exog, missing, hasconst, **kwargs)\u001b[0m\n\u001b[1;32m     85\u001b[0m \u001b[0;34m\u001b[0m\u001b[0m\n\u001b[1;32m     86\u001b[0m     \u001b[0;32mdef\u001b[0m \u001b[0m_handle_data\u001b[0m\u001b[0;34m(\u001b[0m\u001b[0mself\u001b[0m\u001b[0;34m,\u001b[0m \u001b[0mendog\u001b[0m\u001b[0;34m,\u001b[0m \u001b[0mexog\u001b[0m\u001b[0;34m,\u001b[0m \u001b[0mmissing\u001b[0m\u001b[0;34m,\u001b[0m \u001b[0mhasconst\u001b[0m\u001b[0;34m,\u001b[0m \u001b[0;34m**\u001b[0m\u001b[0mkwargs\u001b[0m\u001b[0;34m)\u001b[0m\u001b[0;34m:\u001b[0m\u001b[0;34m\u001b[0m\u001b[0;34m\u001b[0m\u001b[0m\n\u001b[0;32m---> 87\u001b[0;31m         \u001b[0mdata\u001b[0m \u001b[0;34m=\u001b[0m \u001b[0mhandle_data\u001b[0m\u001b[0;34m(\u001b[0m\u001b[0mendog\u001b[0m\u001b[0;34m,\u001b[0m \u001b[0mexog\u001b[0m\u001b[0;34m,\u001b[0m \u001b[0mmissing\u001b[0m\u001b[0;34m,\u001b[0m \u001b[0mhasconst\u001b[0m\u001b[0;34m,\u001b[0m \u001b[0;34m**\u001b[0m\u001b[0mkwargs\u001b[0m\u001b[0;34m)\u001b[0m\u001b[0;34m\u001b[0m\u001b[0;34m\u001b[0m\u001b[0m\n\u001b[0m\u001b[1;32m     88\u001b[0m         \u001b[0;31m# kwargs arrays could have changed, easier to just attach here\u001b[0m\u001b[0;34m\u001b[0m\u001b[0;34m\u001b[0m\u001b[0;34m\u001b[0m\u001b[0m\n\u001b[1;32m     89\u001b[0m         \u001b[0;32mfor\u001b[0m \u001b[0mkey\u001b[0m \u001b[0;32min\u001b[0m \u001b[0mkwargs\u001b[0m\u001b[0;34m:\u001b[0m\u001b[0;34m\u001b[0m\u001b[0;34m\u001b[0m\u001b[0m\n",
      "\u001b[0;32m~/anaconda3/lib/python3.7/site-packages/statsmodels/base/data.py\u001b[0m in \u001b[0;36mhandle_data\u001b[0;34m(endog, exog, missing, hasconst, **kwargs)\u001b[0m\n\u001b[1;32m    631\u001b[0m     \u001b[0mklass\u001b[0m \u001b[0;34m=\u001b[0m \u001b[0mhandle_data_class_factory\u001b[0m\u001b[0;34m(\u001b[0m\u001b[0mendog\u001b[0m\u001b[0;34m,\u001b[0m \u001b[0mexog\u001b[0m\u001b[0;34m)\u001b[0m\u001b[0;34m\u001b[0m\u001b[0;34m\u001b[0m\u001b[0m\n\u001b[1;32m    632\u001b[0m     return klass(endog, exog=exog, missing=missing, hasconst=hasconst,\n\u001b[0;32m--> 633\u001b[0;31m                  **kwargs)\n\u001b[0m",
      "\u001b[0;32m~/anaconda3/lib/python3.7/site-packages/statsmodels/base/data.py\u001b[0m in \u001b[0;36m__init__\u001b[0;34m(self, endog, exog, missing, hasconst, **kwargs)\u001b[0m\n\u001b[1;32m     74\u001b[0m             \u001b[0mself\u001b[0m\u001b[0;34m.\u001b[0m\u001b[0morig_endog\u001b[0m \u001b[0;34m=\u001b[0m \u001b[0mendog\u001b[0m\u001b[0;34m\u001b[0m\u001b[0;34m\u001b[0m\u001b[0m\n\u001b[1;32m     75\u001b[0m             \u001b[0mself\u001b[0m\u001b[0;34m.\u001b[0m\u001b[0morig_exog\u001b[0m \u001b[0;34m=\u001b[0m \u001b[0mexog\u001b[0m\u001b[0;34m\u001b[0m\u001b[0;34m\u001b[0m\u001b[0m\n\u001b[0;32m---> 76\u001b[0;31m             \u001b[0mself\u001b[0m\u001b[0;34m.\u001b[0m\u001b[0mendog\u001b[0m\u001b[0;34m,\u001b[0m \u001b[0mself\u001b[0m\u001b[0;34m.\u001b[0m\u001b[0mexog\u001b[0m \u001b[0;34m=\u001b[0m \u001b[0mself\u001b[0m\u001b[0;34m.\u001b[0m\u001b[0m_convert_endog_exog\u001b[0m\u001b[0;34m(\u001b[0m\u001b[0mendog\u001b[0m\u001b[0;34m,\u001b[0m \u001b[0mexog\u001b[0m\u001b[0;34m)\u001b[0m\u001b[0;34m\u001b[0m\u001b[0;34m\u001b[0m\u001b[0m\n\u001b[0m\u001b[1;32m     77\u001b[0m \u001b[0;34m\u001b[0m\u001b[0m\n\u001b[1;32m     78\u001b[0m         \u001b[0;31m# this has side-effects, attaches k_constant and const_idx\u001b[0m\u001b[0;34m\u001b[0m\u001b[0;34m\u001b[0m\u001b[0;34m\u001b[0m\u001b[0m\n",
      "\u001b[0;32m~/anaconda3/lib/python3.7/site-packages/statsmodels/base/data.py\u001b[0m in \u001b[0;36m_convert_endog_exog\u001b[0;34m(self, endog, exog)\u001b[0m\n\u001b[1;32m    472\u001b[0m         \u001b[0mexog\u001b[0m \u001b[0;34m=\u001b[0m \u001b[0mexog\u001b[0m \u001b[0;32mif\u001b[0m \u001b[0mexog\u001b[0m \u001b[0;32mis\u001b[0m \u001b[0;32mNone\u001b[0m \u001b[0;32melse\u001b[0m \u001b[0mnp\u001b[0m\u001b[0;34m.\u001b[0m\u001b[0masarray\u001b[0m\u001b[0;34m(\u001b[0m\u001b[0mexog\u001b[0m\u001b[0;34m)\u001b[0m\u001b[0;34m\u001b[0m\u001b[0;34m\u001b[0m\u001b[0m\n\u001b[1;32m    473\u001b[0m         \u001b[0;32mif\u001b[0m \u001b[0mendog\u001b[0m\u001b[0;34m.\u001b[0m\u001b[0mdtype\u001b[0m \u001b[0;34m==\u001b[0m \u001b[0mobject\u001b[0m \u001b[0;32mor\u001b[0m \u001b[0mexog\u001b[0m \u001b[0;32mis\u001b[0m \u001b[0;32mnot\u001b[0m \u001b[0;32mNone\u001b[0m \u001b[0;32mand\u001b[0m \u001b[0mexog\u001b[0m\u001b[0;34m.\u001b[0m\u001b[0mdtype\u001b[0m \u001b[0;34m==\u001b[0m \u001b[0mobject\u001b[0m\u001b[0;34m:\u001b[0m\u001b[0;34m\u001b[0m\u001b[0;34m\u001b[0m\u001b[0m\n\u001b[0;32m--> 474\u001b[0;31m             raise ValueError(\"Pandas data cast to numpy dtype of object. \"\n\u001b[0m\u001b[1;32m    475\u001b[0m                              \"Check input data with np.asarray(data).\")\n\u001b[1;32m    476\u001b[0m         \u001b[0;32mreturn\u001b[0m \u001b[0msuper\u001b[0m\u001b[0;34m(\u001b[0m\u001b[0mPandasData\u001b[0m\u001b[0;34m,\u001b[0m \u001b[0mself\u001b[0m\u001b[0;34m)\u001b[0m\u001b[0;34m.\u001b[0m\u001b[0m_convert_endog_exog\u001b[0m\u001b[0;34m(\u001b[0m\u001b[0mendog\u001b[0m\u001b[0;34m,\u001b[0m \u001b[0mexog\u001b[0m\u001b[0;34m)\u001b[0m\u001b[0;34m\u001b[0m\u001b[0;34m\u001b[0m\u001b[0m\n",
      "\u001b[0;31mValueError\u001b[0m: Pandas data cast to numpy dtype of object. Check input data with np.asarray(data)."
     ]
    }
   ],
   "source": [
    "import statsmodels.api as sm\n",
    "\n",
    "X_add_const = sm.add_constant(X_train)\n",
    "logit = sm.Logit(y_train, X_add_const)\n",
    "ans = logit.fit()\n",
    "print(ans.summary())"
   ]
  },
  {
   "cell_type": "markdown",
   "metadata": {},
   "source": [
    "### Problem 6: Evaluating Models\n",
    "- What is the best metric to evaluate your model. Is accuracy good for this case?\n",
    "- Now you have multiple models, which one would you pick? \n",
    "- Can you get any clue from the confusion matrix? What is the meaning of precision and recall in this case? Which one do you care the most? How will your model help the manager make decisions?\n",
    "- **Note:** The last question is open-ended. Your answer could be completely different depending on your understanding of this business problem.\n"
   ]
  },
  {
   "cell_type": "markdown",
   "metadata": {},
   "source": [
    "I am getting warnings for my models and am still trouble shooting. If I did have the model summary I would check it's F statistic, Adj R^2 value, and the pvalues"
   ]
  },
  {
   "cell_type": "markdown",
   "metadata": {},
   "source": [
    "### Problem 7: Feature Engineering Revisit\n",
    "- Is there anything wrong with the new feature we generated? How should we fix it?\n",
    "- ***Hint***: For the real test set, we do not know it will get returned or not."
   ]
  },
  {
   "cell_type": "code",
   "execution_count": 677,
   "metadata": {},
   "outputs": [
    {
     "name": "stdout",
     "output_type": "stream",
     "text": [
      "No     49043\n",
      "Yes     2220\n",
      "Name: Returned, dtype: int64\n"
     ]
    },
    {
     "data": {
      "text/plain": [
       "0.04526639887445711"
      ]
     },
     "execution_count": 677,
     "metadata": {},
     "output_type": "execute_result"
    }
   ],
   "source": [
    "print(orders_merged.Returned.value_counts())\n",
    "2220/49043"
   ]
  },
  {
   "cell_type": "markdown",
   "metadata": {},
   "source": [
    "There is a very small percentage of returns (4.5%) in the data, so it is not garaunteed that 'yes' returns would be in the test (20%) dataset."
   ]
  }
 ],
 "metadata": {
  "kernelspec": {
   "display_name": "Python 3",
   "language": "python",
   "name": "python3"
  },
  "language_info": {
   "codemirror_mode": {
    "name": "ipython",
    "version": 3
   },
   "file_extension": ".py",
   "mimetype": "text/x-python",
   "name": "python",
   "nbconvert_exporter": "python",
   "pygments_lexer": "ipython3",
   "version": "3.7.3"
  }
 },
 "nbformat": 4,
 "nbformat_minor": 2
}
