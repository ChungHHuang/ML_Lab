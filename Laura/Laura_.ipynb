{
 "cells": [
  {
   "cell_type": "code",
   "execution_count": null,
   "metadata": {},
   "outputs": [],
   "source": [
    "import pandas as pd\n",
    "import numpy as np\n",
    "import seaborn as sns\n",
    "\n",
    "import matplotlib.pyplot as pt\n",
    "%matplotlib inline\n",
    "\n",
    "import datetime\n",
    "import scipy.stats as stats\n",
    "import statsmodels.api as sm\n",
    "from statsmodels.formula.api import ols"
   ]
  },
  {
   "cell_type": "code",
   "execution_count": null,
   "metadata": {},
   "outputs": [],
   "source": [
    "orders = pd.read_csv('orders.csv', index_col=0)\n",
    "\n",
    "orders.head()\n",
    "\n",
    "orders.describe()\n",
    "\n",
    "\n",
    "orders.dtypes"
   ]
  },
  {
   "cell_type": "markdown",
   "metadata": {},
   "source": [
    "### Problem 1: Dataset Import & Cleaning\n",
    "Check **\"Profit\"** and **\"Sales\"** in the dataset, convert these two columns to numeric type. "
   ]
  },
  {
   "cell_type": "code",
   "execution_count": null,
   "metadata": {},
   "outputs": [],
   "source": [
    "########### Eliminate '$', '.', & ',' from profit to switch to numeric\n",
    "\n",
    "orders['Profit'] = orders['Profit'].str.replace('$','')\n",
    "orders['Profit'] = orders['Profit'].str.replace('.', '')\n",
    "orders['Profit'] = orders['Profit'].str.replace(',', '')\n",
    "\n",
    "########### Eliminate '$', '.', & ',' from Sales to switch to numeric\n",
    "\n",
    "orders['Sales'] = orders['Sales'].str.replace('$','')\n",
    "orders['Sales'] = orders['Sales'].str.replace('.', '')\n",
    "orders['Sales'] = orders['Sales'].str.replace(',', '')\n",
    "\n",
    "\n",
    "\n",
    "########## Switch Profit, Orders to numeric value\n",
    "orders['Profit'] = pd.to_numeric(orders['Profit'])\n",
    "orders['Sales'] = pd.to_numeric(orders['Sales'])\n"
   ]
  },
  {
   "cell_type": "markdown",
   "metadata": {},
   "source": [
    "### Problem 2: Inventory Management\n",
    "- Retailers that depend on seasonal shoppers have a particularly challenging job when it comes to inventory management. Your manager is making plans for next year's inventory.\n",
    "- He wants you to answer the following questions:\n",
    "    1. Is there any seasonal trend of inventory in the company?\n",
    "    2. Is the seasonal trend the same for different categories?\n",
    "\n",
    "- ***Hint:*** For each order, it has an attribute called `Quantity` that indicates the number of product in the order. If an order contains more than one product, there will be multiple observations of the same order."
   ]
  },
  {
   "cell_type": "code",
   "execution_count": null,
   "metadata": {},
   "outputs": [],
   "source": [
    "######### Create new month column to mimic seasons\n",
    "\n",
    "orders['Month'] = pd.DatetimeIndex(orders['Order.Date']).month\n",
    "\n",
    "orders.dtypes\n",
    "\n",
    "########## Create new DF with only the Columns to answer this question\n",
    "orders_anova = orders[['Quantity','Month', 'Category']]\n",
    "orders_anova.describe()\n",
    "orders_anova.dtypes\n",
    "\n",
    "\n",
    "\n",
    "######## ANOVA test to see a seasonal difference in Quantites sold\n",
    "x = [1 , 2, 3, 4, 5, 6, 7, 8, 9, 10,11,12] \n",
    "month_dict = {}\n",
    "\n",
    "for month in x:\n",
    "    month_dict[month] = orders_anova[orders_anova['Month'] == month]['Quantity']\n",
    "\n",
    "######### ONE WAY for Quantites in Months\n",
    "stats.f_oneway(\n",
    "             month_dict[1], month_dict[2], \\\n",
    "             month_dict[3], month_dict[4], \\\n",
    "             month_dict[5], month_dict[6], \\\n",
    "             month_dict[7], month_dict[8], \\\n",
    "             month_dict[9], month_dict[10], \\\n",
    "             month_dict[11], month_dict[12]\n",
    ")  ### F_onewayResult(statistic=3.4131077340608647, pvalue=9.374920484624957e-05) \n",
    "\n",
    "\n",
    "######## ONE Way ANOVA for trends in Categories per season\n",
    "\n",
    "import scipy.stats as ss\n",
    "for month in orders_anova.groupby('Month'):\n",
    "    samples = [category[1] for category in month[1].groupby('Category')['Quantity']]\n",
    "    f_val, p_val = ss.f_oneway(*samples)\n",
    "    print(': {}, F value: {:.3f}, p value: {:.3f}'.format(month[0], f_val, p_val))\n",
    "\n",
    "#Month: 1, F value: 2.214, p value: 0.109\n",
    "#Month: 2, F value: 1.911, p value: 0.148\n",
    "#Month: 3, F value: 2.767, p value: 0.063\n",
    "#Month: 4, F value: 0.364, p value: 0.695\n",
    "#Month: 5, F value: 0.122, p value: 0.885\n",
    "#Month: 6, F value: 0.303, p value: 0.738\n",
    "#Month: 7, F value: 1.000, p value: 0.368\n",
    "#Month: 8, F value: 0.173, p value: 0.841\n",
    "#Month: 9, F value: 0.768, p value: 0.464\n",
    "#Month: 10, F value: 0.869, p value: 0.420\n",
    "#Month: 11, F value: 1.109, p value: 0.330\n",
    "#Month: 12, F value: 0.485, p value: 0.616\n",
    "\n",
    "\n",
    "### Post Hoc\n",
    "\n",
    "from statsmodels.stats.multicomp import pairwise_tukeyhsd\n",
    "for month, grouped_orders in orders_anova.groupby('Month'):\n",
    "    print('Month {}'.format(month), pairwise_tukeyhsd(grouped_orders['Quantity'], grouped_orders['Category']))\n",
    "\n",
    "    \n",
    "## No Difference in Category Quantity Sold per month\n",
    "\n"
   ]
  },
  {
   "cell_type": "markdown",
   "metadata": {},
   "source": [
    "### Problem 3: Why did customers make returns?\n",
    "- Your manager required you to give a brief report (**Plots + Interpretations**) on returned orders.\n",
    "\n",
    "\t1. How much profit did we lose due to returns each year?\n",
    "\n",
    "\n",
    "\t2. How many customer returned more than once? more than 5 times?\n",
    "\n",
    "\n",
    "\t3. Which regions are more likely to return orders?\n",
    "\n",
    "\n",
    "\t4. Which categories (sub-categories) of products are more likely to be returned?\n",
    "\n",
    "- ***Hint:*** Merge the **Returns** dataframe with the **Orders** dataframe using `Order.ID`.\n"
   ]
  },
  {
   "cell_type": "code",
   "execution_count": null,
   "metadata": {},
   "outputs": [],
   "source": []
  }
 ],
 "metadata": {
  "kernelspec": {
   "display_name": "Python 3",
   "language": "python",
   "name": "python3"
  },
  "language_info": {
   "codemirror_mode": {
    "name": "ipython",
    "version": 3
   },
   "file_extension": ".py",
   "mimetype": "text/x-python",
   "name": "python",
   "nbconvert_exporter": "python",
   "pygments_lexer": "ipython3",
   "version": "3.7.3"
  }
 },
 "nbformat": 4,
 "nbformat_minor": 2
}
