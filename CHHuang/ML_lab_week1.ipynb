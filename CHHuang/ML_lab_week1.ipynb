{
 "cells": [
  {
   "cell_type": "code",
   "execution_count": 92,
   "metadata": {},
   "outputs": [],
   "source": [
    "import numpy as np\n",
    "import pandas as pd\n",
    "import seaborn as sns\n",
    "import matplotlib.pyplot as plt\n",
    "%matplotlib inline"
   ]
  },
  {
   "cell_type": "code",
   "execution_count": 183,
   "metadata": {},
   "outputs": [],
   "source": [
    "Orders = pd.read_csv('data/Orders.csv') \n",
    "Returns = pd.read_csv('data/Returns.csv')"
   ]
  },
  {
   "cell_type": "code",
   "execution_count": 184,
   "metadata": {},
   "outputs": [],
   "source": [
    "# Merge orders and returns\n",
    "Returns=Returns.rename(columns = {'Order ID':'Order.ID'})\n",
    "Orders = pd.merge(Orders, Returns,how='outer',on='Order.ID')\n",
    "Orders.Returned = Orders.Returned.replace(np.nan,'No')\n",
    "# Convert to date type\n",
    "Orders['Order.Date'] = pd.to_datetime(Orders['Order.Date'])\n",
    "Orders['Ship.Date'] = pd.to_datetime(Orders['Ship.Date'])\n",
    "Orders['Order_Month'] = Orders['Order.Date'].dt.month\n",
    "Orders['Order_Year'] = Orders['Order.Date'].dt.year\n",
    "# Convert to float type\n",
    "Orders.Profit = Orders.Profit.str.replace('$','').str.replace(',','').astype(float)\n",
    "Orders.Sales = Orders.Sales.str.replace('$','').str.replace(',','').astype(float)\n",
    "Orders = Orders.drop('Region_y', 1)"
   ]
  },
  {
   "cell_type": "code",
   "execution_count": 185,
   "metadata": {},
   "outputs": [
    {
     "data": {
      "text/html": [
       "<div>\n",
       "<style scoped>\n",
       "    .dataframe tbody tr th:only-of-type {\n",
       "        vertical-align: middle;\n",
       "    }\n",
       "\n",
       "    .dataframe tbody tr th {\n",
       "        vertical-align: top;\n",
       "    }\n",
       "\n",
       "    .dataframe thead th {\n",
       "        text-align: right;\n",
       "    }\n",
       "</style>\n",
       "<table border=\"1\" class=\"dataframe\">\n",
       "  <thead>\n",
       "    <tr style=\"text-align: right;\">\n",
       "      <th></th>\n",
       "      <th>Row.ID</th>\n",
       "      <th>Order.ID</th>\n",
       "      <th>Order.Date</th>\n",
       "      <th>Ship.Date</th>\n",
       "      <th>Ship.Mode</th>\n",
       "      <th>Customer.ID</th>\n",
       "      <th>Customer.Name</th>\n",
       "      <th>Segment</th>\n",
       "      <th>Postal.Code</th>\n",
       "      <th>City</th>\n",
       "      <th>State</th>\n",
       "      <th>Country</th>\n",
       "      <th>Region_x</th>\n",
       "      <th>Market</th>\n",
       "      <th>Product.ID</th>\n",
       "      <th>Category</th>\n",
       "      <th>Sub.Category</th>\n",
       "      <th>Product.Name</th>\n",
       "      <th>Sales</th>\n",
       "      <th>Quantity</th>\n",
       "      <th>Discount</th>\n",
       "      <th>Profit</th>\n",
       "      <th>Shipping.Cost</th>\n",
       "      <th>Order.Priority</th>\n",
       "      <th>Returned</th>\n",
       "      <th>Order_Month</th>\n",
       "      <th>Order_Year</th>\n",
       "    </tr>\n",
       "  </thead>\n",
       "  <tbody>\n",
       "    <tr>\n",
       "      <th>0</th>\n",
       "      <td>40098</td>\n",
       "      <td>CA-2014-AB10015140-41954</td>\n",
       "      <td>2014-11-11</td>\n",
       "      <td>2014-11-13</td>\n",
       "      <td>First Class</td>\n",
       "      <td>AB-100151402</td>\n",
       "      <td>Aaron Bergman</td>\n",
       "      <td>Consumer</td>\n",
       "      <td>73120.0</td>\n",
       "      <td>Oklahoma City</td>\n",
       "      <td>Oklahoma</td>\n",
       "      <td>United States</td>\n",
       "      <td>Central US</td>\n",
       "      <td>USCA</td>\n",
       "      <td>TEC-PH-5816</td>\n",
       "      <td>Technology</td>\n",
       "      <td>Phones</td>\n",
       "      <td>Samsung Convoy 3</td>\n",
       "      <td>221.98</td>\n",
       "      <td>2</td>\n",
       "      <td>0.0</td>\n",
       "      <td>62.15</td>\n",
       "      <td>40.77</td>\n",
       "      <td>High</td>\n",
       "      <td>No</td>\n",
       "      <td>11</td>\n",
       "      <td>2014</td>\n",
       "    </tr>\n",
       "    <tr>\n",
       "      <th>1</th>\n",
       "      <td>40099</td>\n",
       "      <td>CA-2014-AB10015140-41954</td>\n",
       "      <td>2014-11-11</td>\n",
       "      <td>2014-11-13</td>\n",
       "      <td>First Class</td>\n",
       "      <td>AB-100151402</td>\n",
       "      <td>Aaron Bergman</td>\n",
       "      <td>Consumer</td>\n",
       "      <td>73120.0</td>\n",
       "      <td>Oklahoma City</td>\n",
       "      <td>Oklahoma</td>\n",
       "      <td>United States</td>\n",
       "      <td>Central US</td>\n",
       "      <td>USCA</td>\n",
       "      <td>FUR-BO-5957</td>\n",
       "      <td>Furniture</td>\n",
       "      <td>Bookcases</td>\n",
       "      <td>Sauder Facets Collection Library, Sky Alder Fi...</td>\n",
       "      <td>341.96</td>\n",
       "      <td>2</td>\n",
       "      <td>0.0</td>\n",
       "      <td>54.71</td>\n",
       "      <td>25.27</td>\n",
       "      <td>High</td>\n",
       "      <td>No</td>\n",
       "      <td>11</td>\n",
       "      <td>2014</td>\n",
       "    </tr>\n",
       "    <tr>\n",
       "      <th>2</th>\n",
       "      <td>26341</td>\n",
       "      <td>IN-2014-JR162107-41675</td>\n",
       "      <td>2014-02-05</td>\n",
       "      <td>2014-02-07</td>\n",
       "      <td>Second Class</td>\n",
       "      <td>JR-162107</td>\n",
       "      <td>Justin Ritter</td>\n",
       "      <td>Corporate</td>\n",
       "      <td>NaN</td>\n",
       "      <td>Wollongong</td>\n",
       "      <td>New South Wales</td>\n",
       "      <td>Australia</td>\n",
       "      <td>Oceania</td>\n",
       "      <td>Asia Pacific</td>\n",
       "      <td>FUR-CH-5379</td>\n",
       "      <td>Furniture</td>\n",
       "      <td>Chairs</td>\n",
       "      <td>Novimex Executive Leather Armchair, Black</td>\n",
       "      <td>3709.40</td>\n",
       "      <td>9</td>\n",
       "      <td>0.1</td>\n",
       "      <td>-288.77</td>\n",
       "      <td>923.63</td>\n",
       "      <td>Critical</td>\n",
       "      <td>No</td>\n",
       "      <td>2</td>\n",
       "      <td>2014</td>\n",
       "    </tr>\n",
       "    <tr>\n",
       "      <th>3</th>\n",
       "      <td>26339</td>\n",
       "      <td>IN-2014-JR162107-41675</td>\n",
       "      <td>2014-02-05</td>\n",
       "      <td>2014-02-07</td>\n",
       "      <td>Second Class</td>\n",
       "      <td>JR-162107</td>\n",
       "      <td>Justin Ritter</td>\n",
       "      <td>Corporate</td>\n",
       "      <td>NaN</td>\n",
       "      <td>Wollongong</td>\n",
       "      <td>New South Wales</td>\n",
       "      <td>Australia</td>\n",
       "      <td>Oceania</td>\n",
       "      <td>Asia Pacific</td>\n",
       "      <td>TEC-CO-3594</td>\n",
       "      <td>Technology</td>\n",
       "      <td>Copiers</td>\n",
       "      <td>Brother Fax and Copier, Laser</td>\n",
       "      <td>344.68</td>\n",
       "      <td>2</td>\n",
       "      <td>0.1</td>\n",
       "      <td>34.42</td>\n",
       "      <td>65.35</td>\n",
       "      <td>Critical</td>\n",
       "      <td>No</td>\n",
       "      <td>2</td>\n",
       "      <td>2014</td>\n",
       "    </tr>\n",
       "    <tr>\n",
       "      <th>4</th>\n",
       "      <td>26340</td>\n",
       "      <td>IN-2014-JR162107-41675</td>\n",
       "      <td>2014-02-05</td>\n",
       "      <td>2014-02-07</td>\n",
       "      <td>Second Class</td>\n",
       "      <td>JR-162107</td>\n",
       "      <td>Justin Ritter</td>\n",
       "      <td>Corporate</td>\n",
       "      <td>NaN</td>\n",
       "      <td>Wollongong</td>\n",
       "      <td>New South Wales</td>\n",
       "      <td>Australia</td>\n",
       "      <td>Oceania</td>\n",
       "      <td>Asia Pacific</td>\n",
       "      <td>OFF-ST-5697</td>\n",
       "      <td>Office Supplies</td>\n",
       "      <td>Storage</td>\n",
       "      <td>Rogers Folders, Wire Frame</td>\n",
       "      <td>133.92</td>\n",
       "      <td>5</td>\n",
       "      <td>0.1</td>\n",
       "      <td>-6.03</td>\n",
       "      <td>41.64</td>\n",
       "      <td>Critical</td>\n",
       "      <td>No</td>\n",
       "      <td>2</td>\n",
       "      <td>2014</td>\n",
       "    </tr>\n",
       "    <tr>\n",
       "      <th>5</th>\n",
       "      <td>26342</td>\n",
       "      <td>IN-2014-JR162107-41675</td>\n",
       "      <td>2014-02-05</td>\n",
       "      <td>2014-02-07</td>\n",
       "      <td>Second Class</td>\n",
       "      <td>JR-162107</td>\n",
       "      <td>Justin Ritter</td>\n",
       "      <td>Corporate</td>\n",
       "      <td>NaN</td>\n",
       "      <td>Wollongong</td>\n",
       "      <td>New South Wales</td>\n",
       "      <td>Australia</td>\n",
       "      <td>Oceania</td>\n",
       "      <td>Asia Pacific</td>\n",
       "      <td>TEC-AC-4152</td>\n",
       "      <td>Technology</td>\n",
       "      <td>Accessories</td>\n",
       "      <td>Enermax Flash Drive, Erganomic</td>\n",
       "      <td>70.79</td>\n",
       "      <td>2</td>\n",
       "      <td>0.1</td>\n",
       "      <td>25.13</td>\n",
       "      <td>10.48</td>\n",
       "      <td>Critical</td>\n",
       "      <td>No</td>\n",
       "      <td>2</td>\n",
       "      <td>2014</td>\n",
       "    </tr>\n",
       "    <tr>\n",
       "      <th>6</th>\n",
       "      <td>25330</td>\n",
       "      <td>IN-2014-CR127307-41929</td>\n",
       "      <td>2014-10-17</td>\n",
       "      <td>2014-10-18</td>\n",
       "      <td>First Class</td>\n",
       "      <td>CR-127307</td>\n",
       "      <td>Craig Reiter</td>\n",
       "      <td>Consumer</td>\n",
       "      <td>NaN</td>\n",
       "      <td>Brisbane</td>\n",
       "      <td>Queensland</td>\n",
       "      <td>Australia</td>\n",
       "      <td>Oceania</td>\n",
       "      <td>Asia Pacific</td>\n",
       "      <td>TEC-PH-5356</td>\n",
       "      <td>Technology</td>\n",
       "      <td>Phones</td>\n",
       "      <td>Nokia Smart Phone, with Caller ID</td>\n",
       "      <td>5175.17</td>\n",
       "      <td>9</td>\n",
       "      <td>0.1</td>\n",
       "      <td>919.97</td>\n",
       "      <td>915.49</td>\n",
       "      <td>Medium</td>\n",
       "      <td>No</td>\n",
       "      <td>10</td>\n",
       "      <td>2014</td>\n",
       "    </tr>\n",
       "    <tr>\n",
       "      <th>7</th>\n",
       "      <td>25334</td>\n",
       "      <td>IN-2014-CR127307-41929</td>\n",
       "      <td>2014-10-17</td>\n",
       "      <td>2014-10-18</td>\n",
       "      <td>First Class</td>\n",
       "      <td>CR-127307</td>\n",
       "      <td>Craig Reiter</td>\n",
       "      <td>Consumer</td>\n",
       "      <td>NaN</td>\n",
       "      <td>Brisbane</td>\n",
       "      <td>Queensland</td>\n",
       "      <td>Australia</td>\n",
       "      <td>Oceania</td>\n",
       "      <td>Asia Pacific</td>\n",
       "      <td>TEC-PH-3152</td>\n",
       "      <td>Technology</td>\n",
       "      <td>Phones</td>\n",
       "      <td>Apple Speaker Phone, VoIP</td>\n",
       "      <td>333.15</td>\n",
       "      <td>3</td>\n",
       "      <td>0.1</td>\n",
       "      <td>88.80</td>\n",
       "      <td>71.02</td>\n",
       "      <td>Medium</td>\n",
       "      <td>No</td>\n",
       "      <td>10</td>\n",
       "      <td>2014</td>\n",
       "    </tr>\n",
       "    <tr>\n",
       "      <th>8</th>\n",
       "      <td>25333</td>\n",
       "      <td>IN-2014-CR127307-41929</td>\n",
       "      <td>2014-10-17</td>\n",
       "      <td>2014-10-18</td>\n",
       "      <td>First Class</td>\n",
       "      <td>CR-127307</td>\n",
       "      <td>Craig Reiter</td>\n",
       "      <td>Consumer</td>\n",
       "      <td>NaN</td>\n",
       "      <td>Brisbane</td>\n",
       "      <td>Queensland</td>\n",
       "      <td>Australia</td>\n",
       "      <td>Oceania</td>\n",
       "      <td>Asia Pacific</td>\n",
       "      <td>OFF-FA-5468</td>\n",
       "      <td>Office Supplies</td>\n",
       "      <td>Fasteners</td>\n",
       "      <td>OIC Paper Clips, Assorted Sizes</td>\n",
       "      <td>64.15</td>\n",
       "      <td>6</td>\n",
       "      <td>0.1</td>\n",
       "      <td>22.03</td>\n",
       "      <td>5.98</td>\n",
       "      <td>Medium</td>\n",
       "      <td>No</td>\n",
       "      <td>10</td>\n",
       "      <td>2014</td>\n",
       "    </tr>\n",
       "    <tr>\n",
       "      <th>9</th>\n",
       "      <td>25331</td>\n",
       "      <td>IN-2014-CR127307-41929</td>\n",
       "      <td>2014-10-17</td>\n",
       "      <td>2014-10-18</td>\n",
       "      <td>First Class</td>\n",
       "      <td>CR-127307</td>\n",
       "      <td>Craig Reiter</td>\n",
       "      <td>Consumer</td>\n",
       "      <td>NaN</td>\n",
       "      <td>Brisbane</td>\n",
       "      <td>Queensland</td>\n",
       "      <td>Australia</td>\n",
       "      <td>Oceania</td>\n",
       "      <td>Asia Pacific</td>\n",
       "      <td>OFF-BI-4828</td>\n",
       "      <td>Office Supplies</td>\n",
       "      <td>Binders</td>\n",
       "      <td>Ibico Index Tab, Clear</td>\n",
       "      <td>16.04</td>\n",
       "      <td>2</td>\n",
       "      <td>0.1</td>\n",
       "      <td>-1.30</td>\n",
       "      <td>2.25</td>\n",
       "      <td>Medium</td>\n",
       "      <td>No</td>\n",
       "      <td>10</td>\n",
       "      <td>2014</td>\n",
       "    </tr>\n",
       "  </tbody>\n",
       "</table>\n",
       "</div>"
      ],
      "text/plain": [
       "   Row.ID                  Order.ID Order.Date  Ship.Date     Ship.Mode  \\\n",
       "0   40098  CA-2014-AB10015140-41954 2014-11-11 2014-11-13   First Class   \n",
       "1   40099  CA-2014-AB10015140-41954 2014-11-11 2014-11-13   First Class   \n",
       "2   26341    IN-2014-JR162107-41675 2014-02-05 2014-02-07  Second Class   \n",
       "3   26339    IN-2014-JR162107-41675 2014-02-05 2014-02-07  Second Class   \n",
       "4   26340    IN-2014-JR162107-41675 2014-02-05 2014-02-07  Second Class   \n",
       "5   26342    IN-2014-JR162107-41675 2014-02-05 2014-02-07  Second Class   \n",
       "6   25330    IN-2014-CR127307-41929 2014-10-17 2014-10-18   First Class   \n",
       "7   25334    IN-2014-CR127307-41929 2014-10-17 2014-10-18   First Class   \n",
       "8   25333    IN-2014-CR127307-41929 2014-10-17 2014-10-18   First Class   \n",
       "9   25331    IN-2014-CR127307-41929 2014-10-17 2014-10-18   First Class   \n",
       "\n",
       "    Customer.ID  Customer.Name    Segment  Postal.Code           City  \\\n",
       "0  AB-100151402  Aaron Bergman   Consumer      73120.0  Oklahoma City   \n",
       "1  AB-100151402  Aaron Bergman   Consumer      73120.0  Oklahoma City   \n",
       "2     JR-162107  Justin Ritter  Corporate          NaN     Wollongong   \n",
       "3     JR-162107  Justin Ritter  Corporate          NaN     Wollongong   \n",
       "4     JR-162107  Justin Ritter  Corporate          NaN     Wollongong   \n",
       "5     JR-162107  Justin Ritter  Corporate          NaN     Wollongong   \n",
       "6     CR-127307   Craig Reiter   Consumer          NaN       Brisbane   \n",
       "7     CR-127307   Craig Reiter   Consumer          NaN       Brisbane   \n",
       "8     CR-127307   Craig Reiter   Consumer          NaN       Brisbane   \n",
       "9     CR-127307   Craig Reiter   Consumer          NaN       Brisbane   \n",
       "\n",
       "             State        Country    Region_x        Market   Product.ID  \\\n",
       "0         Oklahoma  United States  Central US          USCA  TEC-PH-5816   \n",
       "1         Oklahoma  United States  Central US          USCA  FUR-BO-5957   \n",
       "2  New South Wales      Australia     Oceania  Asia Pacific  FUR-CH-5379   \n",
       "3  New South Wales      Australia     Oceania  Asia Pacific  TEC-CO-3594   \n",
       "4  New South Wales      Australia     Oceania  Asia Pacific  OFF-ST-5697   \n",
       "5  New South Wales      Australia     Oceania  Asia Pacific  TEC-AC-4152   \n",
       "6       Queensland      Australia     Oceania  Asia Pacific  TEC-PH-5356   \n",
       "7       Queensland      Australia     Oceania  Asia Pacific  TEC-PH-3152   \n",
       "8       Queensland      Australia     Oceania  Asia Pacific  OFF-FA-5468   \n",
       "9       Queensland      Australia     Oceania  Asia Pacific  OFF-BI-4828   \n",
       "\n",
       "          Category Sub.Category  \\\n",
       "0       Technology       Phones   \n",
       "1        Furniture    Bookcases   \n",
       "2        Furniture       Chairs   \n",
       "3       Technology      Copiers   \n",
       "4  Office Supplies      Storage   \n",
       "5       Technology  Accessories   \n",
       "6       Technology       Phones   \n",
       "7       Technology       Phones   \n",
       "8  Office Supplies    Fasteners   \n",
       "9  Office Supplies      Binders   \n",
       "\n",
       "                                        Product.Name    Sales  Quantity  \\\n",
       "0                                   Samsung Convoy 3   221.98         2   \n",
       "1  Sauder Facets Collection Library, Sky Alder Fi...   341.96         2   \n",
       "2          Novimex Executive Leather Armchair, Black  3709.40         9   \n",
       "3                      Brother Fax and Copier, Laser   344.68         2   \n",
       "4                         Rogers Folders, Wire Frame   133.92         5   \n",
       "5                     Enermax Flash Drive, Erganomic    70.79         2   \n",
       "6                  Nokia Smart Phone, with Caller ID  5175.17         9   \n",
       "7                          Apple Speaker Phone, VoIP   333.15         3   \n",
       "8                    OIC Paper Clips, Assorted Sizes    64.15         6   \n",
       "9                             Ibico Index Tab, Clear    16.04         2   \n",
       "\n",
       "   Discount  Profit  Shipping.Cost Order.Priority Returned  Order_Month  \\\n",
       "0       0.0   62.15          40.77           High       No           11   \n",
       "1       0.0   54.71          25.27           High       No           11   \n",
       "2       0.1 -288.77         923.63       Critical       No            2   \n",
       "3       0.1   34.42          65.35       Critical       No            2   \n",
       "4       0.1   -6.03          41.64       Critical       No            2   \n",
       "5       0.1   25.13          10.48       Critical       No            2   \n",
       "6       0.1  919.97         915.49         Medium       No           10   \n",
       "7       0.1   88.80          71.02         Medium       No           10   \n",
       "8       0.1   22.03           5.98         Medium       No           10   \n",
       "9       0.1   -1.30           2.25         Medium       No           10   \n",
       "\n",
       "   Order_Year  \n",
       "0        2014  \n",
       "1        2014  \n",
       "2        2014  \n",
       "3        2014  \n",
       "4        2014  \n",
       "5        2014  \n",
       "6        2014  \n",
       "7        2014  \n",
       "8        2014  \n",
       "9        2014  "
      ]
     },
     "execution_count": 185,
     "metadata": {},
     "output_type": "execute_result"
    }
   ],
   "source": [
    "pd.set_option('display.max_columns', 100)\n",
    "Orders.head(10)"
   ]
  },
  {
   "cell_type": "code",
   "execution_count": 186,
   "metadata": {},
   "outputs": [
    {
     "data": {
      "text/html": [
       "<div>\n",
       "<style scoped>\n",
       "    .dataframe tbody tr th:only-of-type {\n",
       "        vertical-align: middle;\n",
       "    }\n",
       "\n",
       "    .dataframe tbody tr th {\n",
       "        vertical-align: top;\n",
       "    }\n",
       "\n",
       "    .dataframe thead th {\n",
       "        text-align: right;\n",
       "    }\n",
       "</style>\n",
       "<table border=\"1\" class=\"dataframe\">\n",
       "  <thead>\n",
       "    <tr style=\"text-align: right;\">\n",
       "      <th></th>\n",
       "      <th>Row.ID</th>\n",
       "      <th>Postal.Code</th>\n",
       "      <th>Sales</th>\n",
       "      <th>Quantity</th>\n",
       "      <th>Discount</th>\n",
       "      <th>Profit</th>\n",
       "      <th>Shipping.Cost</th>\n",
       "      <th>Order_Month</th>\n",
       "      <th>Order_Year</th>\n",
       "    </tr>\n",
       "  </thead>\n",
       "  <tbody>\n",
       "    <tr>\n",
       "      <th>count</th>\n",
       "      <td>51290.00000</td>\n",
       "      <td>9994.000000</td>\n",
       "      <td>51290.000000</td>\n",
       "      <td>51290.000000</td>\n",
       "      <td>51290.000000</td>\n",
       "      <td>51290.000000</td>\n",
       "      <td>51290.000000</td>\n",
       "      <td>51290.000000</td>\n",
       "      <td>51290.000000</td>\n",
       "    </tr>\n",
       "    <tr>\n",
       "      <th>mean</th>\n",
       "      <td>25645.50000</td>\n",
       "      <td>55190.379428</td>\n",
       "      <td>246.490685</td>\n",
       "      <td>3.476545</td>\n",
       "      <td>0.142908</td>\n",
       "      <td>28.610970</td>\n",
       "      <td>26.478567</td>\n",
       "      <td>7.516027</td>\n",
       "      <td>2013.777208</td>\n",
       "    </tr>\n",
       "    <tr>\n",
       "      <th>std</th>\n",
       "      <td>14806.29199</td>\n",
       "      <td>32063.693350</td>\n",
       "      <td>487.565388</td>\n",
       "      <td>2.278766</td>\n",
       "      <td>0.212280</td>\n",
       "      <td>174.341066</td>\n",
       "      <td>57.251373</td>\n",
       "      <td>3.300526</td>\n",
       "      <td>1.098931</td>\n",
       "    </tr>\n",
       "    <tr>\n",
       "      <th>min</th>\n",
       "      <td>1.00000</td>\n",
       "      <td>1040.000000</td>\n",
       "      <td>0.440000</td>\n",
       "      <td>1.000000</td>\n",
       "      <td>0.000000</td>\n",
       "      <td>-6599.980000</td>\n",
       "      <td>1.002000</td>\n",
       "      <td>1.000000</td>\n",
       "      <td>2012.000000</td>\n",
       "    </tr>\n",
       "    <tr>\n",
       "      <th>25%</th>\n",
       "      <td>12823.25000</td>\n",
       "      <td>23223.000000</td>\n",
       "      <td>30.762500</td>\n",
       "      <td>2.000000</td>\n",
       "      <td>0.000000</td>\n",
       "      <td>0.000000</td>\n",
       "      <td>2.610000</td>\n",
       "      <td>5.000000</td>\n",
       "      <td>2013.000000</td>\n",
       "    </tr>\n",
       "    <tr>\n",
       "      <th>50%</th>\n",
       "      <td>25645.50000</td>\n",
       "      <td>56430.500000</td>\n",
       "      <td>85.055000</td>\n",
       "      <td>3.000000</td>\n",
       "      <td>0.000000</td>\n",
       "      <td>9.240000</td>\n",
       "      <td>7.790000</td>\n",
       "      <td>8.000000</td>\n",
       "      <td>2014.000000</td>\n",
       "    </tr>\n",
       "    <tr>\n",
       "      <th>75%</th>\n",
       "      <td>38467.75000</td>\n",
       "      <td>90008.000000</td>\n",
       "      <td>251.055000</td>\n",
       "      <td>5.000000</td>\n",
       "      <td>0.200000</td>\n",
       "      <td>36.810000</td>\n",
       "      <td>24.450000</td>\n",
       "      <td>10.000000</td>\n",
       "      <td>2015.000000</td>\n",
       "    </tr>\n",
       "    <tr>\n",
       "      <th>max</th>\n",
       "      <td>51290.00000</td>\n",
       "      <td>99301.000000</td>\n",
       "      <td>22638.480000</td>\n",
       "      <td>14.000000</td>\n",
       "      <td>0.850000</td>\n",
       "      <td>8399.980000</td>\n",
       "      <td>933.570000</td>\n",
       "      <td>12.000000</td>\n",
       "      <td>2015.000000</td>\n",
       "    </tr>\n",
       "  </tbody>\n",
       "</table>\n",
       "</div>"
      ],
      "text/plain": [
       "            Row.ID   Postal.Code         Sales      Quantity      Discount  \\\n",
       "count  51290.00000   9994.000000  51290.000000  51290.000000  51290.000000   \n",
       "mean   25645.50000  55190.379428    246.490685      3.476545      0.142908   \n",
       "std    14806.29199  32063.693350    487.565388      2.278766      0.212280   \n",
       "min        1.00000   1040.000000      0.440000      1.000000      0.000000   \n",
       "25%    12823.25000  23223.000000     30.762500      2.000000      0.000000   \n",
       "50%    25645.50000  56430.500000     85.055000      3.000000      0.000000   \n",
       "75%    38467.75000  90008.000000    251.055000      5.000000      0.200000   \n",
       "max    51290.00000  99301.000000  22638.480000     14.000000      0.850000   \n",
       "\n",
       "             Profit  Shipping.Cost   Order_Month    Order_Year  \n",
       "count  51290.000000   51290.000000  51290.000000  51290.000000  \n",
       "mean      28.610970      26.478567      7.516027   2013.777208  \n",
       "std      174.341066      57.251373      3.300526      1.098931  \n",
       "min    -6599.980000       1.002000      1.000000   2012.000000  \n",
       "25%        0.000000       2.610000      5.000000   2013.000000  \n",
       "50%        9.240000       7.790000      8.000000   2014.000000  \n",
       "75%       36.810000      24.450000     10.000000   2015.000000  \n",
       "max     8399.980000     933.570000     12.000000   2015.000000  "
      ]
     },
     "execution_count": 186,
     "metadata": {},
     "output_type": "execute_result"
    }
   ],
   "source": [
    "Orders.describe()"
   ]
  },
  {
   "cell_type": "code",
   "execution_count": 187,
   "metadata": {},
   "outputs": [
    {
     "name": "stdout",
     "output_type": "stream",
     "text": [
      "Index(['Row.ID', 'Order.ID', 'Order.Date', 'Ship.Date', 'Ship.Mode',\n",
      "       'Customer.ID', 'Customer.Name', 'Segment', 'Postal.Code', 'City',\n",
      "       'State', 'Country', 'Region_x', 'Market', 'Product.ID', 'Category',\n",
      "       'Sub.Category', 'Product.Name', 'Sales', 'Quantity', 'Discount',\n",
      "       'Profit', 'Shipping.Cost', 'Order.Priority', 'Returned', 'Order_Month',\n",
      "       'Order_Year'],\n",
      "      dtype='object')\n",
      "(51290, 27)\n"
     ]
    }
   ],
   "source": [
    "print(Orders.columns)\n",
    "print(Orders.shape)"
   ]
  },
  {
   "cell_type": "code",
   "execution_count": 67,
   "metadata": {},
   "outputs": [
    {
     "data": {
      "text/plain": [
       "0"
      ]
     },
     "execution_count": 67,
     "metadata": {},
     "output_type": "execute_result"
    }
   ],
   "source": [
    "Orders.groupby(['Sub.Category']).count()\n",
    "np.sum(Orders['Sub.Category'].isnull()"
   ]
  },
  {
   "cell_type": "code",
   "execution_count": 230,
   "metadata": {},
   "outputs": [
    {
     "data": {
      "text/plain": [
       "Binders        6146\n",
       "Storage        5049\n",
       "Art            4864\n",
       "Paper          3492\n",
       "Chairs         3434\n",
       "Phones         3357\n",
       "Furnishings    3154\n",
       "Accessories    3075\n",
       "Fasteners      2601\n",
       "Labels         2601\n",
       "Bookcases      2411\n",
       "Supplies       2407\n",
       "Envelopes      2387\n",
       "Copiers        2223\n",
       "Appliances     1742\n",
       "Machines       1486\n",
       "Tables          861\n",
       "Name: Sub.Category, dtype: int64"
      ]
     },
     "execution_count": 230,
     "metadata": {},
     "output_type": "execute_result"
    }
   ],
   "source": [
    "Orders['Sub.Category'].value_counts()\n",
    "#Orders['Product.Name'].value_counts()"
   ]
  },
  {
   "cell_type": "code",
   "execution_count": 131,
   "metadata": {},
   "outputs": [
    {
     "data": {
      "text/html": [
       "<div>\n",
       "<style scoped>\n",
       "    .dataframe tbody tr th:only-of-type {\n",
       "        vertical-align: middle;\n",
       "    }\n",
       "\n",
       "    .dataframe tbody tr th {\n",
       "        vertical-align: top;\n",
       "    }\n",
       "\n",
       "    .dataframe thead th {\n",
       "        text-align: right;\n",
       "    }\n",
       "</style>\n",
       "<table border=\"1\" class=\"dataframe\">\n",
       "  <thead>\n",
       "    <tr style=\"text-align: right;\">\n",
       "      <th></th>\n",
       "      <th>Quantity</th>\n",
       "    </tr>\n",
       "    <tr>\n",
       "      <th>Order_Month</th>\n",
       "      <th></th>\n",
       "    </tr>\n",
       "  </thead>\n",
       "  <tbody>\n",
       "    <tr>\n",
       "      <th>1</th>\n",
       "      <td>8872</td>\n",
       "    </tr>\n",
       "    <tr>\n",
       "      <th>2</th>\n",
       "      <td>7429</td>\n",
       "    </tr>\n",
       "    <tr>\n",
       "      <th>3</th>\n",
       "      <td>10390</td>\n",
       "    </tr>\n",
       "    <tr>\n",
       "      <th>4</th>\n",
       "      <td>10466</td>\n",
       "    </tr>\n",
       "    <tr>\n",
       "      <th>5</th>\n",
       "      <td>13196</td>\n",
       "    </tr>\n",
       "    <tr>\n",
       "      <th>6</th>\n",
       "      <td>18009</td>\n",
       "    </tr>\n",
       "    <tr>\n",
       "      <th>7</th>\n",
       "      <td>11046</td>\n",
       "    </tr>\n",
       "    <tr>\n",
       "      <th>8</th>\n",
       "      <td>17596</td>\n",
       "    </tr>\n",
       "    <tr>\n",
       "      <th>9</th>\n",
       "      <td>20479</td>\n",
       "    </tr>\n",
       "    <tr>\n",
       "      <th>10</th>\n",
       "      <td>16303</td>\n",
       "    </tr>\n",
       "    <tr>\n",
       "      <th>11</th>\n",
       "      <td>22379</td>\n",
       "    </tr>\n",
       "    <tr>\n",
       "      <th>12</th>\n",
       "      <td>22147</td>\n",
       "    </tr>\n",
       "  </tbody>\n",
       "</table>\n",
       "</div>"
      ],
      "text/plain": [
       "             Quantity\n",
       "Order_Month          \n",
       "1                8872\n",
       "2                7429\n",
       "3               10390\n",
       "4               10466\n",
       "5               13196\n",
       "6               18009\n",
       "7               11046\n",
       "8               17596\n",
       "9               20479\n",
       "10              16303\n",
       "11              22379\n",
       "12              22147"
      ]
     },
     "execution_count": 131,
     "metadata": {},
     "output_type": "execute_result"
    }
   ],
   "source": [
    "#Orders.groupby(['Order_Month','Sub.Category']).agg({'Quantity':'sum'})\n",
    "Orders.groupby(['Order_Month']).agg({'Quantity':'sum'})"
   ]
  },
  {
   "cell_type": "code",
   "execution_count": 132,
   "metadata": {},
   "outputs": [
    {
     "data": {
      "text/plain": [
       "<matplotlib.axes._subplots.AxesSubplot at 0x131e4d390>"
      ]
     },
     "execution_count": 132,
     "metadata": {},
     "output_type": "execute_result"
    },
    {
     "data": {
      "image/png": "[encoded data removed]",
      "text/plain": [
       "<Figure size 432x288 with 1 Axes>"
      ]
     },
     "metadata": {
      "needs_background": "light"
     },
     "output_type": "display_data"
    }
   ],
   "source": [
    "b = Orders.groupby(['Order_Month']).agg({'Quantity':'sum'})\n",
    "b = b.reset_index()\n",
    "sns.barplot(x='Order_Month',y='Quantity', data=b)\n",
    "# It's busy in June, Sep., Nov., and Dec.\n",
    "# People buy more stuff during the holiday season.\n",
    "# September is the start time of the school year."
   ]
  },
  {
   "cell_type": "code",
   "execution_count": 133,
   "metadata": {},
   "outputs": [],
   "source": [
    "a = Orders.groupby(['Order_Month','Sub.Category']).agg({'Quantity':'sum'})\n",
    "a = a.reset_index()\n",
    "# The seasonal trend is the very similar for different categories.\n",
    "# People might tend to buy stuff at the same time"
   ]
  },
  {
   "cell_type": "code",
   "execution_count": 136,
   "metadata": {},
   "outputs": [
    {
     "data": {
      "text/plain": [
       "<matplotlib.axes._subplots.AxesSubplot at 0x1334f7790>"
      ]
     },
     "execution_count": 136,
     "metadata": {},
     "output_type": "execute_result"
    },
    {
     "data": {
      "image/png": "[encoded data removed]",
      "text/plain": [
       "<Figure size 576x360 with 1 Axes>"
      ]
     },
     "metadata": {
      "needs_background": "light"
     },
     "output_type": "display_data"
    }
   ],
   "source": [
    "plt.figure(figsize=(8,5))\n",
    "sns.barplot(x='Order_Month',y= 'Quantity', hue='Sub.Category', data=a[a['Sub.Category']=='Accessories'])"
   ]
  },
  {
   "cell_type": "code",
   "execution_count": 137,
   "metadata": {},
   "outputs": [
    {
     "data": {
      "text/plain": [
       "<matplotlib.axes._subplots.AxesSubplot at 0x1335aefd0>"
      ]
     },
     "execution_count": 137,
     "metadata": {},
     "output_type": "execute_result"
    },
    {
     "data": {
      "image/png": "[encoded data removed]",
      "text/plain": [
       "<Figure size 432x288 with 1 Axes>"
      ]
     },
     "metadata": {
      "needs_background": "light"
     },
     "output_type": "display_data"
    }
   ],
   "source": [
    "sns.barplot(x='Order_Month',y= 'Quantity', hue='Sub.Category', data=a[(a['Sub.Category']=='Binders')])"
   ]
  },
  {
   "cell_type": "code",
   "execution_count": 138,
   "metadata": {},
   "outputs": [
    {
     "data": {
      "text/plain": [
       "<matplotlib.axes._subplots.AxesSubplot at 0x13370e550>"
      ]
     },
     "execution_count": 138,
     "metadata": {},
     "output_type": "execute_result"
    },
    {
     "data": {
      "image/png": "[encoded data removed]",
      "text/plain": [
       "<Figure size 432x288 with 1 Axes>"
      ]
     },
     "metadata": {
      "needs_background": "light"
     },
     "output_type": "display_data"
    }
   ],
   "source": [
    "sns.barplot(x='Order_Month',y= 'Quantity', hue='Sub.Category', data=a[(a['Sub.Category']=='Storage')])"
   ]
  },
  {
   "cell_type": "code",
   "execution_count": 139,
   "metadata": {},
   "outputs": [
    {
     "data": {
      "text/plain": [
       "<matplotlib.axes._subplots.AxesSubplot at 0x1337d21d0>"
      ]
     },
     "execution_count": 139,
     "metadata": {},
     "output_type": "execute_result"
    },
    {
     "data": {
      "image/png": "[encoded data removed]",
      "text/plain": [
       "<Figure size 432x288 with 1 Axes>"
      ]
     },
     "metadata": {
      "needs_background": "light"
     },
     "output_type": "display_data"
    }
   ],
   "source": [
    "sns.barplot(x='Order_Month',y= 'Quantity', hue='Sub.Category', data=a[(a['Sub.Category']=='Art')])"
   ]
  },
  {
   "cell_type": "code",
   "execution_count": 140,
   "metadata": {},
   "outputs": [
    {
     "data": {
      "text/plain": [
       "<matplotlib.axes._subplots.AxesSubplot at 0x128e61f10>"
      ]
     },
     "execution_count": 140,
     "metadata": {},
     "output_type": "execute_result"
    },
    {
     "data": {
      "image/png": "[encoded data removed]",
      "text/plain": [
       "<Figure size 432x288 with 1 Axes>"
      ]
     },
     "metadata": {
      "needs_background": "light"
     },
     "output_type": "display_data"
    }
   ],
   "source": [
    "sns.barplot(x='Order_Month',y= 'Quantity', hue='Sub.Category', data=a[(a['Sub.Category']=='Paper')])"
   ]
  },
  {
   "cell_type": "code",
   "execution_count": 141,
   "metadata": {},
   "outputs": [
    {
     "data": {
      "text/plain": [
       "<matplotlib.axes._subplots.AxesSubplot at 0x128e325d0>"
      ]
     },
     "execution_count": 141,
     "metadata": {},
     "output_type": "execute_result"
    },
    {
     "data": {
      "image/png": "[encoded data removed]",
      "text/plain": [
       "<Figure size 432x288 with 1 Axes>"
      ]
     },
     "metadata": {
      "needs_background": "light"
     },
     "output_type": "display_data"
    }
   ],
   "source": [
    "sns.barplot(x='Order_Month',y= 'Quantity', hue='Sub.Category', data=a[(a['Sub.Category']=='Chairs')])"
   ]
  },
  {
   "cell_type": "code",
   "execution_count": 142,
   "metadata": {},
   "outputs": [
    {
     "data": {
      "text/plain": [
       "<matplotlib.axes._subplots.AxesSubplot at 0x128936490>"
      ]
     },
     "execution_count": 142,
     "metadata": {},
     "output_type": "execute_result"
    },
    {
     "data": {
      "image/png": "[encoded data removed]",
      "text/plain": [
       "<Figure size 432x288 with 1 Axes>"
      ]
     },
     "metadata": {
      "needs_background": "light"
     },
     "output_type": "display_data"
    }
   ],
   "source": [
    "sns.barplot(x='Order_Month',y= 'Quantity', hue='Sub.Category', data=a[(a['Sub.Category']=='Phones')])"
   ]
  },
  {
   "cell_type": "code",
   "execution_count": 210,
   "metadata": {},
   "outputs": [
    {
     "data": {
      "text/plain": [
       "No     49070\n",
       "Yes     2220\n",
       "Name: Returned, dtype: int64"
      ]
     },
     "execution_count": 210,
     "metadata": {},
     "output_type": "execute_result"
    }
   ],
   "source": [
    "#### Beginning of Problem 3\n",
    "Orders = Orders.rename(columns = {'Region_x':'Region'})\n",
    "Orders.Returned.value_counts()"
   ]
  },
  {
   "cell_type": "code",
   "execution_count": 191,
   "metadata": {},
   "outputs": [
    {
     "data": {
      "text/html": [
       "<div>\n",
       "<style scoped>\n",
       "    .dataframe tbody tr th:only-of-type {\n",
       "        vertical-align: middle;\n",
       "    }\n",
       "\n",
       "    .dataframe tbody tr th {\n",
       "        vertical-align: top;\n",
       "    }\n",
       "\n",
       "    .dataframe thead th {\n",
       "        text-align: right;\n",
       "    }\n",
       "</style>\n",
       "<table border=\"1\" class=\"dataframe\">\n",
       "  <thead>\n",
       "    <tr style=\"text-align: right;\">\n",
       "      <th></th>\n",
       "      <th>Profit</th>\n",
       "    </tr>\n",
       "    <tr>\n",
       "      <th>Order_Year</th>\n",
       "      <th></th>\n",
       "    </tr>\n",
       "  </thead>\n",
       "  <tbody>\n",
       "    <tr>\n",
       "      <th>2012</th>\n",
       "      <td>17477.26</td>\n",
       "    </tr>\n",
       "    <tr>\n",
       "      <th>2013</th>\n",
       "      <td>9269.89</td>\n",
       "    </tr>\n",
       "    <tr>\n",
       "      <th>2014</th>\n",
       "      <td>17510.63</td>\n",
       "    </tr>\n",
       "    <tr>\n",
       "      <th>2015</th>\n",
       "      <td>17112.97</td>\n",
       "    </tr>\n",
       "  </tbody>\n",
       "</table>\n",
       "</div>"
      ],
      "text/plain": [
       "              Profit\n",
       "Order_Year          \n",
       "2012        17477.26\n",
       "2013         9269.89\n",
       "2014        17510.63\n",
       "2015        17112.97"
      ]
     },
     "execution_count": 191,
     "metadata": {},
     "output_type": "execute_result"
    }
   ],
   "source": [
    "# Prob 3-1\n",
    "Orders[Orders.Returned=='Yes'].groupby(['Order_Year']).agg({'Profit':'sum'})\n",
    "# The table shows the profit we lost due to returns"
   ]
  },
  {
   "cell_type": "code",
   "execution_count": 205,
   "metadata": {},
   "outputs": [],
   "source": [
    "Prob3_2 = Orders[Orders.Returned=='Yes'].groupby(['Customer.ID']).agg({'Row.ID':'count'})\n",
    "Prob3_2 = Prob3_2.rename(columns = {'Row.ID':'Count'})"
   ]
  },
  {
   "cell_type": "code",
   "execution_count": 209,
   "metadata": {},
   "outputs": [
    {
     "data": {
      "text/plain": [
       "46"
      ]
     },
     "execution_count": 209,
     "metadata": {},
     "output_type": "execute_result"
    }
   ],
   "source": [
    "len(Prob3_2[Prob3_2.Count>1])\n",
    "# 547 customers return more than once\n",
    "len(Prob3_2[Prob3_2.Count>5])\n",
    "# 46 customers return more than five times"
   ]
  },
  {
   "cell_type": "code",
   "execution_count": 214,
   "metadata": {},
   "outputs": [
    {
     "data": {
      "text/html": [
       "<div>\n",
       "<style scoped>\n",
       "    .dataframe tbody tr th:only-of-type {\n",
       "        vertical-align: middle;\n",
       "    }\n",
       "\n",
       "    .dataframe tbody tr th {\n",
       "        vertical-align: top;\n",
       "    }\n",
       "\n",
       "    .dataframe thead th {\n",
       "        text-align: right;\n",
       "    }\n",
       "</style>\n",
       "<table border=\"1\" class=\"dataframe\">\n",
       "  <thead>\n",
       "    <tr style=\"text-align: right;\">\n",
       "      <th></th>\n",
       "      <th>Row.ID</th>\n",
       "      <th>Order.ID</th>\n",
       "      <th>Order.Date</th>\n",
       "      <th>Ship.Date</th>\n",
       "      <th>Ship.Mode</th>\n",
       "      <th>Customer.ID</th>\n",
       "      <th>Customer.Name</th>\n",
       "      <th>Segment</th>\n",
       "      <th>Postal.Code</th>\n",
       "      <th>City</th>\n",
       "      <th>State</th>\n",
       "      <th>Country</th>\n",
       "      <th>Region</th>\n",
       "      <th>Market</th>\n",
       "      <th>Product.ID</th>\n",
       "      <th>Category</th>\n",
       "      <th>Sub.Category</th>\n",
       "      <th>Product.Name</th>\n",
       "      <th>Sales</th>\n",
       "      <th>Quantity</th>\n",
       "      <th>Discount</th>\n",
       "      <th>Profit</th>\n",
       "      <th>Shipping.Cost</th>\n",
       "      <th>Order.Priority</th>\n",
       "      <th>Returned</th>\n",
       "      <th>Order_Month</th>\n",
       "      <th>Order_Year</th>\n",
       "    </tr>\n",
       "  </thead>\n",
       "  <tbody>\n",
       "    <tr>\n",
       "      <th>0</th>\n",
       "      <td>40098</td>\n",
       "      <td>CA-2014-AB10015140-41954</td>\n",
       "      <td>2014-11-11</td>\n",
       "      <td>2014-11-13</td>\n",
       "      <td>First Class</td>\n",
       "      <td>AB-100151402</td>\n",
       "      <td>Aaron Bergman</td>\n",
       "      <td>Consumer</td>\n",
       "      <td>73120.0</td>\n",
       "      <td>Oklahoma City</td>\n",
       "      <td>Oklahoma</td>\n",
       "      <td>United States</td>\n",
       "      <td>Central US</td>\n",
       "      <td>USCA</td>\n",
       "      <td>TEC-PH-5816</td>\n",
       "      <td>Technology</td>\n",
       "      <td>Phones</td>\n",
       "      <td>Samsung Convoy 3</td>\n",
       "      <td>221.98</td>\n",
       "      <td>2</td>\n",
       "      <td>0.0</td>\n",
       "      <td>62.15</td>\n",
       "      <td>40.77</td>\n",
       "      <td>High</td>\n",
       "      <td>No</td>\n",
       "      <td>11</td>\n",
       "      <td>2014</td>\n",
       "    </tr>\n",
       "    <tr>\n",
       "      <th>1</th>\n",
       "      <td>40099</td>\n",
       "      <td>CA-2014-AB10015140-41954</td>\n",
       "      <td>2014-11-11</td>\n",
       "      <td>2014-11-13</td>\n",
       "      <td>First Class</td>\n",
       "      <td>AB-100151402</td>\n",
       "      <td>Aaron Bergman</td>\n",
       "      <td>Consumer</td>\n",
       "      <td>73120.0</td>\n",
       "      <td>Oklahoma City</td>\n",
       "      <td>Oklahoma</td>\n",
       "      <td>United States</td>\n",
       "      <td>Central US</td>\n",
       "      <td>USCA</td>\n",
       "      <td>FUR-BO-5957</td>\n",
       "      <td>Furniture</td>\n",
       "      <td>Bookcases</td>\n",
       "      <td>Sauder Facets Collection Library, Sky Alder Fi...</td>\n",
       "      <td>341.96</td>\n",
       "      <td>2</td>\n",
       "      <td>0.0</td>\n",
       "      <td>54.71</td>\n",
       "      <td>25.27</td>\n",
       "      <td>High</td>\n",
       "      <td>No</td>\n",
       "      <td>11</td>\n",
       "      <td>2014</td>\n",
       "    </tr>\n",
       "    <tr>\n",
       "      <th>2</th>\n",
       "      <td>26341</td>\n",
       "      <td>IN-2014-JR162107-41675</td>\n",
       "      <td>2014-02-05</td>\n",
       "      <td>2014-02-07</td>\n",
       "      <td>Second Class</td>\n",
       "      <td>JR-162107</td>\n",
       "      <td>Justin Ritter</td>\n",
       "      <td>Corporate</td>\n",
       "      <td>NaN</td>\n",
       "      <td>Wollongong</td>\n",
       "      <td>New South Wales</td>\n",
       "      <td>Australia</td>\n",
       "      <td>Oceania</td>\n",
       "      <td>Asia Pacific</td>\n",
       "      <td>FUR-CH-5379</td>\n",
       "      <td>Furniture</td>\n",
       "      <td>Chairs</td>\n",
       "      <td>Novimex Executive Leather Armchair, Black</td>\n",
       "      <td>3709.40</td>\n",
       "      <td>9</td>\n",
       "      <td>0.1</td>\n",
       "      <td>-288.77</td>\n",
       "      <td>923.63</td>\n",
       "      <td>Critical</td>\n",
       "      <td>No</td>\n",
       "      <td>2</td>\n",
       "      <td>2014</td>\n",
       "    </tr>\n",
       "    <tr>\n",
       "      <th>3</th>\n",
       "      <td>26339</td>\n",
       "      <td>IN-2014-JR162107-41675</td>\n",
       "      <td>2014-02-05</td>\n",
       "      <td>2014-02-07</td>\n",
       "      <td>Second Class</td>\n",
       "      <td>JR-162107</td>\n",
       "      <td>Justin Ritter</td>\n",
       "      <td>Corporate</td>\n",
       "      <td>NaN</td>\n",
       "      <td>Wollongong</td>\n",
       "      <td>New South Wales</td>\n",
       "      <td>Australia</td>\n",
       "      <td>Oceania</td>\n",
       "      <td>Asia Pacific</td>\n",
       "      <td>TEC-CO-3594</td>\n",
       "      <td>Technology</td>\n",
       "      <td>Copiers</td>\n",
       "      <td>Brother Fax and Copier, Laser</td>\n",
       "      <td>344.68</td>\n",
       "      <td>2</td>\n",
       "      <td>0.1</td>\n",
       "      <td>34.42</td>\n",
       "      <td>65.35</td>\n",
       "      <td>Critical</td>\n",
       "      <td>No</td>\n",
       "      <td>2</td>\n",
       "      <td>2014</td>\n",
       "    </tr>\n",
       "    <tr>\n",
       "      <th>4</th>\n",
       "      <td>26340</td>\n",
       "      <td>IN-2014-JR162107-41675</td>\n",
       "      <td>2014-02-05</td>\n",
       "      <td>2014-02-07</td>\n",
       "      <td>Second Class</td>\n",
       "      <td>JR-162107</td>\n",
       "      <td>Justin Ritter</td>\n",
       "      <td>Corporate</td>\n",
       "      <td>NaN</td>\n",
       "      <td>Wollongong</td>\n",
       "      <td>New South Wales</td>\n",
       "      <td>Australia</td>\n",
       "      <td>Oceania</td>\n",
       "      <td>Asia Pacific</td>\n",
       "      <td>OFF-ST-5697</td>\n",
       "      <td>Office Supplies</td>\n",
       "      <td>Storage</td>\n",
       "      <td>Rogers Folders, Wire Frame</td>\n",
       "      <td>133.92</td>\n",
       "      <td>5</td>\n",
       "      <td>0.1</td>\n",
       "      <td>-6.03</td>\n",
       "      <td>41.64</td>\n",
       "      <td>Critical</td>\n",
       "      <td>No</td>\n",
       "      <td>2</td>\n",
       "      <td>2014</td>\n",
       "    </tr>\n",
       "  </tbody>\n",
       "</table>\n",
       "</div>"
      ],
      "text/plain": [
       "   Row.ID                  Order.ID Order.Date  Ship.Date     Ship.Mode  \\\n",
       "0   40098  CA-2014-AB10015140-41954 2014-11-11 2014-11-13   First Class   \n",
       "1   40099  CA-2014-AB10015140-41954 2014-11-11 2014-11-13   First Class   \n",
       "2   26341    IN-2014-JR162107-41675 2014-02-05 2014-02-07  Second Class   \n",
       "3   26339    IN-2014-JR162107-41675 2014-02-05 2014-02-07  Second Class   \n",
       "4   26340    IN-2014-JR162107-41675 2014-02-05 2014-02-07  Second Class   \n",
       "\n",
       "    Customer.ID  Customer.Name    Segment  Postal.Code           City  \\\n",
       "0  AB-100151402  Aaron Bergman   Consumer      73120.0  Oklahoma City   \n",
       "1  AB-100151402  Aaron Bergman   Consumer      73120.0  Oklahoma City   \n",
       "2     JR-162107  Justin Ritter  Corporate          NaN     Wollongong   \n",
       "3     JR-162107  Justin Ritter  Corporate          NaN     Wollongong   \n",
       "4     JR-162107  Justin Ritter  Corporate          NaN     Wollongong   \n",
       "\n",
       "             State        Country      Region        Market   Product.ID  \\\n",
       "0         Oklahoma  United States  Central US          USCA  TEC-PH-5816   \n",
       "1         Oklahoma  United States  Central US          USCA  FUR-BO-5957   \n",
       "2  New South Wales      Australia     Oceania  Asia Pacific  FUR-CH-5379   \n",
       "3  New South Wales      Australia     Oceania  Asia Pacific  TEC-CO-3594   \n",
       "4  New South Wales      Australia     Oceania  Asia Pacific  OFF-ST-5697   \n",
       "\n",
       "          Category Sub.Category  \\\n",
       "0       Technology       Phones   \n",
       "1        Furniture    Bookcases   \n",
       "2        Furniture       Chairs   \n",
       "3       Technology      Copiers   \n",
       "4  Office Supplies      Storage   \n",
       "\n",
       "                                        Product.Name    Sales  Quantity  \\\n",
       "0                                   Samsung Convoy 3   221.98         2   \n",
       "1  Sauder Facets Collection Library, Sky Alder Fi...   341.96         2   \n",
       "2          Novimex Executive Leather Armchair, Black  3709.40         9   \n",
       "3                      Brother Fax and Copier, Laser   344.68         2   \n",
       "4                         Rogers Folders, Wire Frame   133.92         5   \n",
       "\n",
       "   Discount  Profit  Shipping.Cost Order.Priority Returned  Order_Month  \\\n",
       "0       0.0   62.15          40.77           High       No           11   \n",
       "1       0.0   54.71          25.27           High       No           11   \n",
       "2       0.1 -288.77         923.63       Critical       No            2   \n",
       "3       0.1   34.42          65.35       Critical       No            2   \n",
       "4       0.1   -6.03          41.64       Critical       No            2   \n",
       "\n",
       "   Order_Year  \n",
       "0        2014  \n",
       "1        2014  \n",
       "2        2014  \n",
       "3        2014  \n",
       "4        2014  "
      ]
     },
     "execution_count": 214,
     "metadata": {},
     "output_type": "execute_result"
    }
   ],
   "source": [
    "Orders.head()"
   ]
  },
  {
   "cell_type": "code",
   "execution_count": 224,
   "metadata": {},
   "outputs": [],
   "source": [
    "Prob3_3 = Orders[Orders.Returned=='Yes'].groupby(['Region']).agg({'Row.ID':'count'})\n",
    "Prob3_3 = Prob3_3.rename(columns = {'Row.ID':'Count'})\n",
    "Prob3_3 = Prob3_3.sort_values('Count',ascending=False)\n",
    "Prob3_3 = Prob3_3.reset_index()"
   ]
  },
  {
   "cell_type": "code",
   "execution_count": 228,
   "metadata": {
    "scrolled": true
   },
   "outputs": [
    {
     "data": {
      "text/plain": [
       "<matplotlib.axes._subplots.AxesSubplot at 0x128cfa950>"
      ]
     },
     "execution_count": 228,
     "metadata": {},
     "output_type": "execute_result"
    },
    {
     "data": {
      "image/png": "[encoded data removed]",
      "text/plain": [
       "<Figure size 1080x432 with 1 Axes>"
      ]
     },
     "metadata": {
      "needs_background": "light"
     },
     "output_type": "display_data"
    }
   ],
   "source": [
    "plt.figure(figsize=(15,6))\n",
    "sns.barplot(x='Region',y= 'Count', data=Prob3_3.head(10))\n",
    "# The plot below shows the top 10 regions that are more likely to return orders"
   ]
  },
  {
   "cell_type": "code",
   "execution_count": 232,
   "metadata": {},
   "outputs": [],
   "source": [
    "#'Sub.Category'\n",
    "Prob3_4 = Orders[Orders.Returned=='Yes'].groupby(['Sub.Category']).agg({'Row.ID':'count'})\n",
    "Prob3_4 = Prob3_4.rename(columns = {'Row.ID':'Count'})\n",
    "Prob3_4 = Prob3_4.sort_values('Count',ascending=False)\n",
    "Prob3_4 = Prob3_4.reset_index()"
   ]
  },
  {
   "cell_type": "code",
   "execution_count": 234,
   "metadata": {},
   "outputs": [
    {
     "data": {
      "text/plain": [
       "<matplotlib.axes._subplots.AxesSubplot at 0x13a2db610>"
      ]
     },
     "execution_count": 234,
     "metadata": {},
     "output_type": "execute_result"
    },
    {
     "data": {
      "image/png": "[encoded data removed]",
      "text/plain": [
       "<Figure size 1080x432 with 1 Axes>"
      ]
     },
     "metadata": {
      "needs_background": "light"
     },
     "output_type": "display_data"
    }
   ],
   "source": [
    "plt.figure(figsize=(15,6))\n",
    "sns.barplot(x='Sub.Category',y= 'Count', data=Prob3_4.head(10))\n",
    "# The plot below shows the top 10 categories that are more likely to be returned"
   ]
  },
  {
   "cell_type": "code",
   "execution_count": null,
   "metadata": {},
   "outputs": [],
   "source": []
  }
 ],
 "metadata": {
  "kernelspec": {
   "display_name": "Python 3",
   "language": "python",
   "name": "python3"
  },
  "language_info": {
   "codemirror_mode": {
    "name": "ipython",
    "version": 3
   },
   "file_extension": ".py",
   "mimetype": "text/x-python",
   "name": "python",
   "nbconvert_exporter": "python",
   "pygments_lexer": "ipython3",
   "version": "3.7.4"
  }
 },
 "nbformat": 4,
 "nbformat_minor": 2
}
